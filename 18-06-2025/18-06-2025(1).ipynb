{
 "cells": [
  {
   "cell_type": "code",
   "execution_count": 2,
   "metadata": {
    "colab": {
     "base_uri": "https://localhost:8080/"
    },
    "id": "oIieFyxPSXl3",
    "outputId": "3ab5fbcf-37fe-422a-bbb4-ffbb6c776232"
   },
   "outputs": [
    {
     "name": "stdout",
     "output_type": "stream",
     "text": [
      "Requirement already satisfied: pandas in c:\\users\\sania\\anaconda3\\lib\\site-packages (2.2.2)\n",
      "Requirement already satisfied: numpy>=1.26.0 in c:\\users\\sania\\anaconda3\\lib\\site-packages (from pandas) (1.26.4)\n",
      "Requirement already satisfied: python-dateutil>=2.8.2 in c:\\users\\sania\\anaconda3\\lib\\site-packages (from pandas) (2.9.0.post0)\n",
      "Requirement already satisfied: pytz>=2020.1 in c:\\users\\sania\\anaconda3\\lib\\site-packages (from pandas) (2024.1)\n",
      "Requirement already satisfied: tzdata>=2022.7 in c:\\users\\sania\\anaconda3\\lib\\site-packages (from pandas) (2023.3)\n",
      "Requirement already satisfied: six>=1.5 in c:\\users\\sania\\anaconda3\\lib\\site-packages (from python-dateutil>=2.8.2->pandas) (1.16.0)\n",
      "Note: you may need to restart the kernel to use updated packages.\n"
     ]
    }
   ],
   "source": [
    "pip install pandas"
   ]
  },
  {
   "cell_type": "code",
   "execution_count": 3,
   "metadata": {
    "colab": {
     "base_uri": "https://localhost:8080/",
     "height": 423
    },
    "id": "vwBY1XY0Rjhw",
    "outputId": "8bf45499-ab96-4fae-bbce-fa6cad72bbc8"
   },
   "outputs": [
    {
     "data": {
      "text/html": [
       "<div>\n",
       "<style scoped>\n",
       "    .dataframe tbody tr th:only-of-type {\n",
       "        vertical-align: middle;\n",
       "    }\n",
       "\n",
       "    .dataframe tbody tr th {\n",
       "        vertical-align: top;\n",
       "    }\n",
       "\n",
       "    .dataframe thead th {\n",
       "        text-align: right;\n",
       "    }\n",
       "</style>\n",
       "<table border=\"1\" class=\"dataframe\">\n",
       "  <thead>\n",
       "    <tr style=\"text-align: right;\">\n",
       "      <th></th>\n",
       "      <th>Age</th>\n",
       "      <th>KM</th>\n",
       "      <th>Weight</th>\n",
       "      <th>HP</th>\n",
       "      <th>MetColor</th>\n",
       "      <th>CC</th>\n",
       "      <th>Doors</th>\n",
       "      <th>Price</th>\n",
       "    </tr>\n",
       "  </thead>\n",
       "  <tbody>\n",
       "    <tr>\n",
       "      <th>0</th>\n",
       "      <td>23.0</td>\n",
       "      <td>46986</td>\n",
       "      <td>1165.0</td>\n",
       "      <td>90</td>\n",
       "      <td>1</td>\n",
       "      <td>2000.0</td>\n",
       "      <td>3</td>\n",
       "      <td>13500</td>\n",
       "    </tr>\n",
       "    <tr>\n",
       "      <th>1</th>\n",
       "      <td>23.0</td>\n",
       "      <td>72937</td>\n",
       "      <td>1165.0</td>\n",
       "      <td>90</td>\n",
       "      <td>1</td>\n",
       "      <td>2000.0</td>\n",
       "      <td>3</td>\n",
       "      <td>13750</td>\n",
       "    </tr>\n",
       "    <tr>\n",
       "      <th>2</th>\n",
       "      <td>24.0</td>\n",
       "      <td>41711</td>\n",
       "      <td>1165.0</td>\n",
       "      <td>90</td>\n",
       "      <td>1</td>\n",
       "      <td>2000.0</td>\n",
       "      <td>3</td>\n",
       "      <td>13950</td>\n",
       "    </tr>\n",
       "    <tr>\n",
       "      <th>3</th>\n",
       "      <td>26.0</td>\n",
       "      <td>48000</td>\n",
       "      <td>1165.0</td>\n",
       "      <td>90</td>\n",
       "      <td>0</td>\n",
       "      <td>2000.0</td>\n",
       "      <td>3</td>\n",
       "      <td>14950</td>\n",
       "    </tr>\n",
       "    <tr>\n",
       "      <th>4</th>\n",
       "      <td>30.0</td>\n",
       "      <td>38500</td>\n",
       "      <td>1170.0</td>\n",
       "      <td>90</td>\n",
       "      <td>0</td>\n",
       "      <td>2000.0</td>\n",
       "      <td>3</td>\n",
       "      <td>13750</td>\n",
       "    </tr>\n",
       "    <tr>\n",
       "      <th>...</th>\n",
       "      <td>...</td>\n",
       "      <td>...</td>\n",
       "      <td>...</td>\n",
       "      <td>...</td>\n",
       "      <td>...</td>\n",
       "      <td>...</td>\n",
       "      <td>...</td>\n",
       "      <td>...</td>\n",
       "    </tr>\n",
       "    <tr>\n",
       "      <th>1431</th>\n",
       "      <td>69.0</td>\n",
       "      <td>20544</td>\n",
       "      <td>1025.0</td>\n",
       "      <td>86</td>\n",
       "      <td>1</td>\n",
       "      <td>1300.0</td>\n",
       "      <td>3</td>\n",
       "      <td>7500</td>\n",
       "    </tr>\n",
       "    <tr>\n",
       "      <th>1432</th>\n",
       "      <td>72.0</td>\n",
       "      <td>19000</td>\n",
       "      <td>1015.0</td>\n",
       "      <td>86</td>\n",
       "      <td>0</td>\n",
       "      <td>1300.0</td>\n",
       "      <td>3</td>\n",
       "      <td>10845</td>\n",
       "    </tr>\n",
       "    <tr>\n",
       "      <th>1433</th>\n",
       "      <td>71.0</td>\n",
       "      <td>17016</td>\n",
       "      <td>1015.0</td>\n",
       "      <td>86</td>\n",
       "      <td>0</td>\n",
       "      <td>1300.0</td>\n",
       "      <td>3</td>\n",
       "      <td>8500</td>\n",
       "    </tr>\n",
       "    <tr>\n",
       "      <th>1434</th>\n",
       "      <td>70.0</td>\n",
       "      <td>16916</td>\n",
       "      <td>1015.0</td>\n",
       "      <td>86</td>\n",
       "      <td>1</td>\n",
       "      <td>1300.0</td>\n",
       "      <td>3</td>\n",
       "      <td>7250</td>\n",
       "    </tr>\n",
       "    <tr>\n",
       "      <th>1435</th>\n",
       "      <td>76.0</td>\n",
       "      <td>1</td>\n",
       "      <td>1114.0</td>\n",
       "      <td>110</td>\n",
       "      <td>0</td>\n",
       "      <td>1600.0</td>\n",
       "      <td>5</td>\n",
       "      <td>6950</td>\n",
       "    </tr>\n",
       "  </tbody>\n",
       "</table>\n",
       "<p>1435 rows × 8 columns</p>\n",
       "</div>"
      ],
      "text/plain": [
       "       Age     KM  Weight   HP  MetColor      CC  Doors  Price\n",
       "0     23.0  46986  1165.0   90         1  2000.0      3  13500\n",
       "1     23.0  72937  1165.0   90         1  2000.0      3  13750\n",
       "2     24.0  41711  1165.0   90         1  2000.0      3  13950\n",
       "3     26.0  48000  1165.0   90         0  2000.0      3  14950\n",
       "4     30.0  38500  1170.0   90         0  2000.0      3  13750\n",
       "...    ...    ...     ...  ...       ...     ...    ...    ...\n",
       "1431  69.0  20544  1025.0   86         1  1300.0      3   7500\n",
       "1432  72.0  19000  1015.0   86         0  1300.0      3  10845\n",
       "1433  71.0  17016  1015.0   86         0  1300.0      3   8500\n",
       "1434  70.0  16916  1015.0   86         1  1300.0      3   7250\n",
       "1435  76.0      1  1114.0  110         0  1600.0      5   6950\n",
       "\n",
       "[1435 rows x 8 columns]"
      ]
     },
     "execution_count": 3,
     "metadata": {},
     "output_type": "execute_result"
    }
   ],
   "source": [
    "import pandas as pd\n",
    "df = pd.read_pickle(\"2_CarPricesData.pkl\")\n",
    "df"
   ]
  },
  {
   "cell_type": "code",
   "execution_count": 6,
   "metadata": {
    "colab": {
     "base_uri": "https://localhost:8080/",
     "height": 206
    },
    "id": "EmpFBEWWRuVe",
    "outputId": "e559ec9c-da49-4f8c-b3c3-9e0449d3f62f"
   },
   "outputs": [
    {
     "data": {
      "text/html": [
       "<div>\n",
       "<style scoped>\n",
       "    .dataframe tbody tr th:only-of-type {\n",
       "        vertical-align: middle;\n",
       "    }\n",
       "\n",
       "    .dataframe tbody tr th {\n",
       "        vertical-align: top;\n",
       "    }\n",
       "\n",
       "    .dataframe thead th {\n",
       "        text-align: right;\n",
       "    }\n",
       "</style>\n",
       "<table border=\"1\" class=\"dataframe\">\n",
       "  <thead>\n",
       "    <tr style=\"text-align: right;\">\n",
       "      <th></th>\n",
       "      <th>Age</th>\n",
       "      <th>KM</th>\n",
       "      <th>Weight</th>\n",
       "      <th>HP</th>\n",
       "      <th>MetColor</th>\n",
       "      <th>CC</th>\n",
       "      <th>Doors</th>\n",
       "      <th>Price</th>\n",
       "    </tr>\n",
       "  </thead>\n",
       "  <tbody>\n",
       "    <tr>\n",
       "      <th>0</th>\n",
       "      <td>0.278481</td>\n",
       "      <td>0.193355</td>\n",
       "      <td>0.515625</td>\n",
       "      <td>0.170732</td>\n",
       "      <td>1</td>\n",
       "      <td>1.0</td>\n",
       "      <td>3</td>\n",
       "      <td>13500</td>\n",
       "    </tr>\n",
       "    <tr>\n",
       "      <th>1</th>\n",
       "      <td>0.278481</td>\n",
       "      <td>0.300149</td>\n",
       "      <td>0.515625</td>\n",
       "      <td>0.170732</td>\n",
       "      <td>1</td>\n",
       "      <td>1.0</td>\n",
       "      <td>3</td>\n",
       "      <td>13750</td>\n",
       "    </tr>\n",
       "    <tr>\n",
       "      <th>2</th>\n",
       "      <td>0.291139</td>\n",
       "      <td>0.171647</td>\n",
       "      <td>0.515625</td>\n",
       "      <td>0.170732</td>\n",
       "      <td>1</td>\n",
       "      <td>1.0</td>\n",
       "      <td>3</td>\n",
       "      <td>13950</td>\n",
       "    </tr>\n",
       "    <tr>\n",
       "      <th>3</th>\n",
       "      <td>0.316456</td>\n",
       "      <td>0.197528</td>\n",
       "      <td>0.515625</td>\n",
       "      <td>0.170732</td>\n",
       "      <td>0</td>\n",
       "      <td>1.0</td>\n",
       "      <td>3</td>\n",
       "      <td>14950</td>\n",
       "    </tr>\n",
       "    <tr>\n",
       "      <th>4</th>\n",
       "      <td>0.367089</td>\n",
       "      <td>0.158433</td>\n",
       "      <td>0.531250</td>\n",
       "      <td>0.170732</td>\n",
       "      <td>0</td>\n",
       "      <td>1.0</td>\n",
       "      <td>3</td>\n",
       "      <td>13750</td>\n",
       "    </tr>\n",
       "  </tbody>\n",
       "</table>\n",
       "</div>"
      ],
      "text/plain": [
       "        Age        KM    Weight        HP  MetColor   CC  Doors  Price\n",
       "0  0.278481  0.193355  0.515625  0.170732         1  1.0      3  13500\n",
       "1  0.278481  0.300149  0.515625  0.170732         1  1.0      3  13750\n",
       "2  0.291139  0.171647  0.515625  0.170732         1  1.0      3  13950\n",
       "3  0.316456  0.197528  0.515625  0.170732         0  1.0      3  14950\n",
       "4  0.367089  0.158433  0.531250  0.170732         0  1.0      3  13750"
      ]
     },
     "execution_count": 6,
     "metadata": {},
     "output_type": "execute_result"
    }
   ],
   "source": [
    "from sklearn.preprocessing import MinMaxScaler\n",
    "sc = MinMaxScaler()\n",
    "df[['Age','KM','Weight','HP','CC']]= sc.fit_transform(df[['Age','KM','Weight','HP','CC']])\n",
    "df.head()"
   ]
  },
  {
   "cell_type": "code",
   "execution_count": 7,
   "metadata": {
    "id": "t7jp1C31T4Ec"
   },
   "outputs": [],
   "source": [
    "X= df.iloc[:,:-1]\n",
    "y=df['Price']"
   ]
  },
  {
   "cell_type": "code",
   "execution_count": 8,
   "metadata": {
    "colab": {
     "base_uri": "https://localhost:8080/"
    },
    "id": "KdMArBlGUTpd",
    "outputId": "e194729c-ad15-4c5b-9981-71eb658978cf"
   },
   "outputs": [
    {
     "data": {
      "text/plain": [
       "(1435, 7)"
      ]
     },
     "execution_count": 8,
     "metadata": {},
     "output_type": "execute_result"
    }
   ],
   "source": [
    "X.shape"
   ]
  },
  {
   "cell_type": "code",
   "execution_count": 12,
   "metadata": {
    "id": "FIlyNMiqUVcj"
   },
   "outputs": [],
   "source": [
    "from sklearn.model_selection import train_test_split\n",
    "X_train, X_test, y_train, y_test = train_test_split(X, y, random_state=42)"
   ]
  },
  {
   "cell_type": "code",
   "execution_count": 14,
   "metadata": {
    "colab": {
     "base_uri": "https://localhost:8080/"
    },
    "id": "keQ61rIuUeoa",
    "outputId": "71109183-0e0e-4796-a152-202ce2fc2e17"
   },
   "outputs": [
    {
     "name": "stdout",
     "output_type": "stream",
     "text": [
      "(1076, 7)\n",
      "(359, 7)\n"
     ]
    }
   ],
   "source": [
    "print(X_train.shape)\n",
    "print(X_test.shape)"
   ]
  },
  {
   "cell_type": "code",
   "execution_count": 147,
   "metadata": {
    "id": "0I2CXTpcUpeJ"
   },
   "outputs": [
    {
     "name": "stderr",
     "output_type": "stream",
     "text": [
      "C:\\Users\\sania\\anaconda3\\Lib\\site-packages\\keras\\src\\layers\\core\\dense.py:93: UserWarning: Do not pass an `input_shape`/`input_dim` argument to a layer. When using Sequential models, prefer using an `Input(shape)` object as the first layer in the model instead.\n",
      "  super().__init__(activity_regularizer=activity_regularizer, **kwargs)\n"
     ]
    }
   ],
   "source": [
    "from keras import Sequential\n",
    "from keras.layers import Dense\n",
    "from keras.callbacks import EarlyStopping, ModelCheckpoint\n",
    "model = Sequential()\n",
    "model.add(Dense(units=12,input_dim=7,kernel_initializer='random_uniform',activation='relu'))\n",
    "model.add(Dense(units=23,kernel_initializer='he_uniform',activation='relu'))\n",
    "model.add(Dense(units=36,kernel_initializer='he_uniform',activation='relu'))\n",
    "model.add(Dense(units=45,kernel_initializer='he_uniform',activation='relu'))\n",
    "model.add(Dense(units=86,kernel_initializer='he_uniform',activation='relu'))\n",
    "model.add(Dense(units=63,kernel_initializer='he_uniform',activation='relu'))\n",
    "model.add(Dense(units=57,kernel_initializer='he_uniform',activation='relu'))\n",
    "model.add(Dense(units=43,kernel_initializer='he_uniform',activation='relu'))\n",
    "model.add(Dense(units=19,kernel_initializer='he_uniform',activation='relu'))\n",
    "model.add(Dense(units=1,kernel_initializer='he_uniform'))\n",
    "model.compile(loss='mean_squared_error', optimizer='adam', metrics=['mse'])\n"
   ]
  },
  {
   "cell_type": "code",
   "execution_count": 149,
   "metadata": {},
   "outputs": [],
   "source": [
    "early_stop = EarlyStopping(\n",
    "    monitor='val_loss',\n",
    "    patience=7,\n",
    "    restore_best_weights=True,\n",
    "    verbose=1\n",
    ")"
   ]
  },
  {
   "cell_type": "code",
   "execution_count": 151,
   "metadata": {},
   "outputs": [],
   "source": [
    "checkpoint= ModelCheckpoint(\n",
    "    'car_model.keras',\n",
    "    monitor='val_loss',\n",
    "    save_best_only=True,\n",
    "    verbose=1\n",
    ")"
   ]
  },
  {
   "cell_type": "code",
   "execution_count": 153,
   "metadata": {
    "id": "80tPwyo9YP5T"
   },
   "outputs": [
    {
     "data": {
      "text/html": [
       "<pre style=\"white-space:pre;overflow-x:auto;line-height:normal;font-family:Menlo,'DejaVu Sans Mono',consolas,'Courier New',monospace\"><span style=\"font-weight: bold\">Model: \"sequential_12\"</span>\n",
       "</pre>\n"
      ],
      "text/plain": [
       "\u001b[1mModel: \"sequential_12\"\u001b[0m\n"
      ]
     },
     "metadata": {},
     "output_type": "display_data"
    },
    {
     "data": {
      "text/html": [
       "<pre style=\"white-space:pre;overflow-x:auto;line-height:normal;font-family:Menlo,'DejaVu Sans Mono',consolas,'Courier New',monospace\">┏━━━━━━━━━━━━━━━━━━━━━━━━━━━━━━━━━━━━━━┳━━━━━━━━━━━━━━━━━━━━━━━━━━━━━┳━━━━━━━━━━━━━━━━━┓\n",
       "┃<span style=\"font-weight: bold\"> Layer (type)                         </span>┃<span style=\"font-weight: bold\"> Output Shape                </span>┃<span style=\"font-weight: bold\">         Param # </span>┃\n",
       "┡━━━━━━━━━━━━━━━━━━━━━━━━━━━━━━━━━━━━━━╇━━━━━━━━━━━━━━━━━━━━━━━━━━━━━╇━━━━━━━━━━━━━━━━━┩\n",
       "│ dense_65 (<span style=\"color: #0087ff; text-decoration-color: #0087ff\">Dense</span>)                     │ (<span style=\"color: #00d7ff; text-decoration-color: #00d7ff\">None</span>, <span style=\"color: #00af00; text-decoration-color: #00af00\">12</span>)                  │              <span style=\"color: #00af00; text-decoration-color: #00af00\">96</span> │\n",
       "├──────────────────────────────────────┼─────────────────────────────┼─────────────────┤\n",
       "│ dense_66 (<span style=\"color: #0087ff; text-decoration-color: #0087ff\">Dense</span>)                     │ (<span style=\"color: #00d7ff; text-decoration-color: #00d7ff\">None</span>, <span style=\"color: #00af00; text-decoration-color: #00af00\">23</span>)                  │             <span style=\"color: #00af00; text-decoration-color: #00af00\">299</span> │\n",
       "├──────────────────────────────────────┼─────────────────────────────┼─────────────────┤\n",
       "│ dense_67 (<span style=\"color: #0087ff; text-decoration-color: #0087ff\">Dense</span>)                     │ (<span style=\"color: #00d7ff; text-decoration-color: #00d7ff\">None</span>, <span style=\"color: #00af00; text-decoration-color: #00af00\">36</span>)                  │             <span style=\"color: #00af00; text-decoration-color: #00af00\">864</span> │\n",
       "├──────────────────────────────────────┼─────────────────────────────┼─────────────────┤\n",
       "│ dense_68 (<span style=\"color: #0087ff; text-decoration-color: #0087ff\">Dense</span>)                     │ (<span style=\"color: #00d7ff; text-decoration-color: #00d7ff\">None</span>, <span style=\"color: #00af00; text-decoration-color: #00af00\">45</span>)                  │           <span style=\"color: #00af00; text-decoration-color: #00af00\">1,665</span> │\n",
       "├──────────────────────────────────────┼─────────────────────────────┼─────────────────┤\n",
       "│ dense_69 (<span style=\"color: #0087ff; text-decoration-color: #0087ff\">Dense</span>)                     │ (<span style=\"color: #00d7ff; text-decoration-color: #00d7ff\">None</span>, <span style=\"color: #00af00; text-decoration-color: #00af00\">86</span>)                  │           <span style=\"color: #00af00; text-decoration-color: #00af00\">3,956</span> │\n",
       "├──────────────────────────────────────┼─────────────────────────────┼─────────────────┤\n",
       "│ dense_70 (<span style=\"color: #0087ff; text-decoration-color: #0087ff\">Dense</span>)                     │ (<span style=\"color: #00d7ff; text-decoration-color: #00d7ff\">None</span>, <span style=\"color: #00af00; text-decoration-color: #00af00\">63</span>)                  │           <span style=\"color: #00af00; text-decoration-color: #00af00\">5,481</span> │\n",
       "├──────────────────────────────────────┼─────────────────────────────┼─────────────────┤\n",
       "│ dense_71 (<span style=\"color: #0087ff; text-decoration-color: #0087ff\">Dense</span>)                     │ (<span style=\"color: #00d7ff; text-decoration-color: #00d7ff\">None</span>, <span style=\"color: #00af00; text-decoration-color: #00af00\">57</span>)                  │           <span style=\"color: #00af00; text-decoration-color: #00af00\">3,648</span> │\n",
       "├──────────────────────────────────────┼─────────────────────────────┼─────────────────┤\n",
       "│ dense_72 (<span style=\"color: #0087ff; text-decoration-color: #0087ff\">Dense</span>)                     │ (<span style=\"color: #00d7ff; text-decoration-color: #00d7ff\">None</span>, <span style=\"color: #00af00; text-decoration-color: #00af00\">43</span>)                  │           <span style=\"color: #00af00; text-decoration-color: #00af00\">2,494</span> │\n",
       "├──────────────────────────────────────┼─────────────────────────────┼─────────────────┤\n",
       "│ dense_73 (<span style=\"color: #0087ff; text-decoration-color: #0087ff\">Dense</span>)                     │ (<span style=\"color: #00d7ff; text-decoration-color: #00d7ff\">None</span>, <span style=\"color: #00af00; text-decoration-color: #00af00\">19</span>)                  │             <span style=\"color: #00af00; text-decoration-color: #00af00\">836</span> │\n",
       "├──────────────────────────────────────┼─────────────────────────────┼─────────────────┤\n",
       "│ dense_74 (<span style=\"color: #0087ff; text-decoration-color: #0087ff\">Dense</span>)                     │ (<span style=\"color: #00d7ff; text-decoration-color: #00d7ff\">None</span>, <span style=\"color: #00af00; text-decoration-color: #00af00\">1</span>)                   │              <span style=\"color: #00af00; text-decoration-color: #00af00\">20</span> │\n",
       "└──────────────────────────────────────┴─────────────────────────────┴─────────────────┘\n",
       "</pre>\n"
      ],
      "text/plain": [
       "┏━━━━━━━━━━━━━━━━━━━━━━━━━━━━━━━━━━━━━━┳━━━━━━━━━━━━━━━━━━━━━━━━━━━━━┳━━━━━━━━━━━━━━━━━┓\n",
       "┃\u001b[1m \u001b[0m\u001b[1mLayer (type)                        \u001b[0m\u001b[1m \u001b[0m┃\u001b[1m \u001b[0m\u001b[1mOutput Shape               \u001b[0m\u001b[1m \u001b[0m┃\u001b[1m \u001b[0m\u001b[1m        Param #\u001b[0m\u001b[1m \u001b[0m┃\n",
       "┡━━━━━━━━━━━━━━━━━━━━━━━━━━━━━━━━━━━━━━╇━━━━━━━━━━━━━━━━━━━━━━━━━━━━━╇━━━━━━━━━━━━━━━━━┩\n",
       "│ dense_65 (\u001b[38;5;33mDense\u001b[0m)                     │ (\u001b[38;5;45mNone\u001b[0m, \u001b[38;5;34m12\u001b[0m)                  │              \u001b[38;5;34m96\u001b[0m │\n",
       "├──────────────────────────────────────┼─────────────────────────────┼─────────────────┤\n",
       "│ dense_66 (\u001b[38;5;33mDense\u001b[0m)                     │ (\u001b[38;5;45mNone\u001b[0m, \u001b[38;5;34m23\u001b[0m)                  │             \u001b[38;5;34m299\u001b[0m │\n",
       "├──────────────────────────────────────┼─────────────────────────────┼─────────────────┤\n",
       "│ dense_67 (\u001b[38;5;33mDense\u001b[0m)                     │ (\u001b[38;5;45mNone\u001b[0m, \u001b[38;5;34m36\u001b[0m)                  │             \u001b[38;5;34m864\u001b[0m │\n",
       "├──────────────────────────────────────┼─────────────────────────────┼─────────────────┤\n",
       "│ dense_68 (\u001b[38;5;33mDense\u001b[0m)                     │ (\u001b[38;5;45mNone\u001b[0m, \u001b[38;5;34m45\u001b[0m)                  │           \u001b[38;5;34m1,665\u001b[0m │\n",
       "├──────────────────────────────────────┼─────────────────────────────┼─────────────────┤\n",
       "│ dense_69 (\u001b[38;5;33mDense\u001b[0m)                     │ (\u001b[38;5;45mNone\u001b[0m, \u001b[38;5;34m86\u001b[0m)                  │           \u001b[38;5;34m3,956\u001b[0m │\n",
       "├──────────────────────────────────────┼─────────────────────────────┼─────────────────┤\n",
       "│ dense_70 (\u001b[38;5;33mDense\u001b[0m)                     │ (\u001b[38;5;45mNone\u001b[0m, \u001b[38;5;34m63\u001b[0m)                  │           \u001b[38;5;34m5,481\u001b[0m │\n",
       "├──────────────────────────────────────┼─────────────────────────────┼─────────────────┤\n",
       "│ dense_71 (\u001b[38;5;33mDense\u001b[0m)                     │ (\u001b[38;5;45mNone\u001b[0m, \u001b[38;5;34m57\u001b[0m)                  │           \u001b[38;5;34m3,648\u001b[0m │\n",
       "├──────────────────────────────────────┼─────────────────────────────┼─────────────────┤\n",
       "│ dense_72 (\u001b[38;5;33mDense\u001b[0m)                     │ (\u001b[38;5;45mNone\u001b[0m, \u001b[38;5;34m43\u001b[0m)                  │           \u001b[38;5;34m2,494\u001b[0m │\n",
       "├──────────────────────────────────────┼─────────────────────────────┼─────────────────┤\n",
       "│ dense_73 (\u001b[38;5;33mDense\u001b[0m)                     │ (\u001b[38;5;45mNone\u001b[0m, \u001b[38;5;34m19\u001b[0m)                  │             \u001b[38;5;34m836\u001b[0m │\n",
       "├──────────────────────────────────────┼─────────────────────────────┼─────────────────┤\n",
       "│ dense_74 (\u001b[38;5;33mDense\u001b[0m)                     │ (\u001b[38;5;45mNone\u001b[0m, \u001b[38;5;34m1\u001b[0m)                   │              \u001b[38;5;34m20\u001b[0m │\n",
       "└──────────────────────────────────────┴─────────────────────────────┴─────────────────┘\n"
      ]
     },
     "metadata": {},
     "output_type": "display_data"
    },
    {
     "data": {
      "text/html": [
       "<pre style=\"white-space:pre;overflow-x:auto;line-height:normal;font-family:Menlo,'DejaVu Sans Mono',consolas,'Courier New',monospace\"><span style=\"font-weight: bold\"> Total params: </span><span style=\"color: #00af00; text-decoration-color: #00af00\">19,359</span> (75.62 KB)\n",
       "</pre>\n"
      ],
      "text/plain": [
       "\u001b[1m Total params: \u001b[0m\u001b[38;5;34m19,359\u001b[0m (75.62 KB)\n"
      ]
     },
     "metadata": {},
     "output_type": "display_data"
    },
    {
     "data": {
      "text/html": [
       "<pre style=\"white-space:pre;overflow-x:auto;line-height:normal;font-family:Menlo,'DejaVu Sans Mono',consolas,'Courier New',monospace\"><span style=\"font-weight: bold\"> Trainable params: </span><span style=\"color: #00af00; text-decoration-color: #00af00\">19,359</span> (75.62 KB)\n",
       "</pre>\n"
      ],
      "text/plain": [
       "\u001b[1m Trainable params: \u001b[0m\u001b[38;5;34m19,359\u001b[0m (75.62 KB)\n"
      ]
     },
     "metadata": {},
     "output_type": "display_data"
    },
    {
     "data": {
      "text/html": [
       "<pre style=\"white-space:pre;overflow-x:auto;line-height:normal;font-family:Menlo,'DejaVu Sans Mono',consolas,'Courier New',monospace\"><span style=\"font-weight: bold\"> Non-trainable params: </span><span style=\"color: #00af00; text-decoration-color: #00af00\">0</span> (0.00 B)\n",
       "</pre>\n"
      ],
      "text/plain": [
       "\u001b[1m Non-trainable params: \u001b[0m\u001b[38;5;34m0\u001b[0m (0.00 B)\n"
      ]
     },
     "metadata": {},
     "output_type": "display_data"
    }
   ],
   "source": [
    "model.summary()"
   ]
  },
  {
   "cell_type": "code",
   "execution_count": 155,
   "metadata": {},
   "outputs": [],
   "source": [
    "model.compile(loss='mean_squared_error',optimizer='adam', metrics=['mse'])"
   ]
  },
  {
   "cell_type": "code",
   "execution_count": 157,
   "metadata": {},
   "outputs": [
    {
     "name": "stdout",
     "output_type": "stream",
     "text": [
      "Epoch 1/15\n",
      "\u001b[1m36/38\u001b[0m \u001b[32m━━━━━━━━━━━━━━━━━━\u001b[0m\u001b[37m━━\u001b[0m \u001b[1m0s\u001b[0m 7ms/step - loss: 132143472.0000 - mse: 132143472.0000\n",
      "Epoch 1: val_loss improved from inf to 117918576.00000, saving model to car_model.keras\n",
      "\u001b[1m38/38\u001b[0m \u001b[32m━━━━━━━━━━━━━━━━━━━━\u001b[0m\u001b[37m\u001b[0m \u001b[1m11s\u001b[0m 41ms/step - loss: 132034760.0000 - mse: 132034760.0000 - val_loss: 117918576.0000 - val_mse: 117918576.0000\n",
      "Epoch 2/15\n",
      "\u001b[1m32/38\u001b[0m \u001b[32m━━━━━━━━━━━━━━━━\u001b[0m\u001b[37m━━━━\u001b[0m \u001b[1m0s\u001b[0m 8ms/step - loss: 118408680.0000 - mse: 118408688.0000\n",
      "Epoch 2: val_loss improved from 117918576.00000 to 24268738.00000, saving model to car_model.keras\n",
      "\u001b[1m38/38\u001b[0m \u001b[32m━━━━━━━━━━━━━━━━━━━━\u001b[0m\u001b[37m\u001b[0m \u001b[1m1s\u001b[0m 22ms/step - loss: 113089608.0000 - mse: 113089616.0000 - val_loss: 24268738.0000 - val_mse: 24268738.0000\n",
      "Epoch 3/15\n",
      "\u001b[1m31/38\u001b[0m \u001b[32m━━━━━━━━━━━━━━━━\u001b[0m\u001b[37m━━━━\u001b[0m \u001b[1m0s\u001b[0m 6ms/step - loss: 19272184.0000 - mse: 19272184.0000\n",
      "Epoch 3: val_loss improved from 24268738.00000 to 15600201.00000, saving model to car_model.keras\n",
      "\u001b[1m38/38\u001b[0m \u001b[32m━━━━━━━━━━━━━━━━━━━━\u001b[0m\u001b[37m\u001b[0m \u001b[1m1s\u001b[0m 17ms/step - loss: 18876368.0000 - mse: 18876368.0000 - val_loss: 15600201.0000 - val_mse: 15600201.0000\n",
      "Epoch 4/15\n",
      "\u001b[1m28/38\u001b[0m \u001b[32m━━━━━━━━━━━━━━\u001b[0m\u001b[37m━━━━━━\u001b[0m \u001b[1m0s\u001b[0m 6ms/step - loss: 14963060.0000 - mse: 14963061.0000\n",
      "Epoch 4: val_loss improved from 15600201.00000 to 14243477.00000, saving model to car_model.keras\n",
      "\u001b[1m38/38\u001b[0m \u001b[32m━━━━━━━━━━━━━━━━━━━━\u001b[0m\u001b[37m\u001b[0m \u001b[1m1s\u001b[0m 17ms/step - loss: 14727815.0000 - mse: 14727816.0000 - val_loss: 14243477.0000 - val_mse: 14243477.0000\n",
      "Epoch 5/15\n",
      "\u001b[1m38/38\u001b[0m \u001b[32m━━━━━━━━━━━━━━━━━━━━\u001b[0m\u001b[37m\u001b[0m \u001b[1m0s\u001b[0m 6ms/step - loss: 13676373.0000 - mse: 13676373.0000\n",
      "Epoch 5: val_loss improved from 14243477.00000 to 13336203.00000, saving model to car_model.keras\n",
      "\u001b[1m38/38\u001b[0m \u001b[32m━━━━━━━━━━━━━━━━━━━━\u001b[0m\u001b[37m\u001b[0m \u001b[1m1s\u001b[0m 19ms/step - loss: 13661315.0000 - mse: 13661315.0000 - val_loss: 13336203.0000 - val_mse: 13336203.0000\n",
      "Epoch 6/15\n",
      "\u001b[1m32/38\u001b[0m \u001b[32m━━━━━━━━━━━━━━━━\u001b[0m\u001b[37m━━━━\u001b[0m \u001b[1m0s\u001b[0m 5ms/step - loss: 12551355.0000 - mse: 12551355.0000\n",
      "Epoch 6: val_loss did not improve from 13336203.00000\n",
      "\u001b[1m38/38\u001b[0m \u001b[32m━━━━━━━━━━━━━━━━━━━━\u001b[0m\u001b[37m\u001b[0m \u001b[1m1s\u001b[0m 13ms/step - loss: 12594318.0000 - mse: 12594318.0000 - val_loss: 13366410.0000 - val_mse: 13366410.0000\n",
      "Epoch 7/15\n",
      "\u001b[1m27/38\u001b[0m \u001b[32m━━━━━━━━━━━━━━\u001b[0m\u001b[37m━━━━━━\u001b[0m \u001b[1m0s\u001b[0m 7ms/step - loss: 11535853.0000 - mse: 11535853.0000\n",
      "Epoch 7: val_loss improved from 13336203.00000 to 12340234.00000, saving model to car_model.keras\n",
      "\u001b[1m38/38\u001b[0m \u001b[32m━━━━━━━━━━━━━━━━━━━━\u001b[0m\u001b[37m\u001b[0m \u001b[1m1s\u001b[0m 17ms/step - loss: 11729494.0000 - mse: 11729494.0000 - val_loss: 12340234.0000 - val_mse: 12340234.0000\n",
      "Epoch 8/15\n",
      "\u001b[1m37/38\u001b[0m \u001b[32m━━━━━━━━━━━━━━━━━━━\u001b[0m\u001b[37m━\u001b[0m \u001b[1m0s\u001b[0m 6ms/step - loss: 11827072.0000 - mse: 11827073.0000\n",
      "Epoch 8: val_loss improved from 12340234.00000 to 11530758.00000, saving model to car_model.keras\n",
      "\u001b[1m38/38\u001b[0m \u001b[32m━━━━━━━━━━━━━━━━━━━━\u001b[0m\u001b[37m\u001b[0m \u001b[1m1s\u001b[0m 16ms/step - loss: 11813663.0000 - mse: 11813663.0000 - val_loss: 11530758.0000 - val_mse: 11530758.0000\n",
      "Epoch 9/15\n",
      "\u001b[1m34/38\u001b[0m \u001b[32m━━━━━━━━━━━━━━━━━\u001b[0m\u001b[37m━━━\u001b[0m \u001b[1m0s\u001b[0m 5ms/step - loss: 10832770.0000 - mse: 10832770.0000\n",
      "Epoch 9: val_loss improved from 11530758.00000 to 11507393.00000, saving model to car_model.keras\n",
      "\u001b[1m38/38\u001b[0m \u001b[32m━━━━━━━━━━━━━━━━━━━━\u001b[0m\u001b[37m\u001b[0m \u001b[1m1s\u001b[0m 21ms/step - loss: 10838936.0000 - mse: 10838936.0000 - val_loss: 11507393.0000 - val_mse: 11507393.0000\n",
      "Epoch 10/15\n",
      "\u001b[1m35/38\u001b[0m \u001b[32m━━━━━━━━━━━━━━━━━━\u001b[0m\u001b[37m━━\u001b[0m \u001b[1m0s\u001b[0m 6ms/step - loss: 10987708.0000 - mse: 10987708.0000\n",
      "Epoch 10: val_loss improved from 11507393.00000 to 10201362.00000, saving model to car_model.keras\n",
      "\u001b[1m38/38\u001b[0m \u001b[32m━━━━━━━━━━━━━━━━━━━━\u001b[0m\u001b[37m\u001b[0m \u001b[1m1s\u001b[0m 18ms/step - loss: 10905992.0000 - mse: 10905992.0000 - val_loss: 10201362.0000 - val_mse: 10201362.0000\n",
      "Epoch 11/15\n",
      "\u001b[1m29/38\u001b[0m \u001b[32m━━━━━━━━━━━━━━━\u001b[0m\u001b[37m━━━━━\u001b[0m \u001b[1m0s\u001b[0m 6ms/step - loss: 10249529.0000 - mse: 10249529.0000\n",
      "Epoch 11: val_loss improved from 10201362.00000 to 9491193.00000, saving model to car_model.keras\n",
      "\u001b[1m38/38\u001b[0m \u001b[32m━━━━━━━━━━━━━━━━━━━━\u001b[0m\u001b[37m\u001b[0m \u001b[1m1s\u001b[0m 17ms/step - loss: 10123709.0000 - mse: 10123709.0000 - val_loss: 9491193.0000 - val_mse: 9491193.0000\n",
      "Epoch 12/15\n",
      "\u001b[1m35/38\u001b[0m \u001b[32m━━━━━━━━━━━━━━━━━━\u001b[0m\u001b[37m━━\u001b[0m \u001b[1m0s\u001b[0m 7ms/step - loss: 7988963.5000 - mse: 7988963.5000\n",
      "Epoch 12: val_loss improved from 9491193.00000 to 9177948.00000, saving model to car_model.keras\n",
      "\u001b[1m38/38\u001b[0m \u001b[32m━━━━━━━━━━━━━━━━━━━━\u001b[0m\u001b[37m\u001b[0m \u001b[1m1s\u001b[0m 18ms/step - loss: 8060493.0000 - mse: 8060493.0000 - val_loss: 9177948.0000 - val_mse: 9177948.0000\n",
      "Epoch 13/15\n",
      "\u001b[1m33/38\u001b[0m \u001b[32m━━━━━━━━━━━━━━━━━\u001b[0m\u001b[37m━━━\u001b[0m \u001b[1m0s\u001b[0m 6ms/step - loss: 7824598.5000 - mse: 7824598.5000 \n",
      "Epoch 13: val_loss improved from 9177948.00000 to 8908045.00000, saving model to car_model.keras\n",
      "\u001b[1m38/38\u001b[0m \u001b[32m━━━━━━━━━━━━━━━━━━━━\u001b[0m\u001b[37m\u001b[0m \u001b[1m1s\u001b[0m 17ms/step - loss: 7853257.5000 - mse: 7853257.5000 - val_loss: 8908045.0000 - val_mse: 8908045.0000\n",
      "Epoch 14/15\n",
      "\u001b[1m29/38\u001b[0m \u001b[32m━━━━━━━━━━━━━━━\u001b[0m\u001b[37m━━━━━\u001b[0m \u001b[1m0s\u001b[0m 6ms/step - loss: 7858002.5000 - mse: 7858002.5000 \n",
      "Epoch 14: val_loss improved from 8908045.00000 to 6872819.50000, saving model to car_model.keras\n",
      "\u001b[1m38/38\u001b[0m \u001b[32m━━━━━━━━━━━━━━━━━━━━\u001b[0m\u001b[37m\u001b[0m \u001b[1m1s\u001b[0m 18ms/step - loss: 7662204.0000 - mse: 7662204.0000 - val_loss: 6872819.5000 - val_mse: 6872819.5000\n",
      "Epoch 15/15\n",
      "\u001b[1m33/38\u001b[0m \u001b[32m━━━━━━━━━━━━━━━━━\u001b[0m\u001b[37m━━━\u001b[0m \u001b[1m0s\u001b[0m 6ms/step - loss: 6688492.5000 - mse: 6688492.5000\n",
      "Epoch 15: val_loss improved from 6872819.50000 to 5927491.00000, saving model to car_model.keras\n",
      "\u001b[1m38/38\u001b[0m \u001b[32m━━━━━━━━━━━━━━━━━━━━\u001b[0m\u001b[37m\u001b[0m \u001b[1m1s\u001b[0m 19ms/step - loss: 6587252.0000 - mse: 6587252.5000 - val_loss: 5927491.0000 - val_mse: 5927491.0000\n",
      "Restoring model weights from the end of the best epoch: 15.\n"
     ]
    }
   ],
   "source": [
    "history = model.fit(X_train, y_train, batch_size=20, epochs=15, validation_split=0.3, callbacks=[early_stop, checkpoint], verbose=1)"
   ]
  },
  {
   "cell_type": "code",
   "execution_count": 223,
   "metadata": {},
   "outputs": [
    {
     "name": "stderr",
     "output_type": "stream",
     "text": [
      "C:\\Users\\sania\\anaconda3\\Lib\\site-packages\\keras\\src\\layers\\core\\dense.py:93: UserWarning: Do not pass an `input_shape`/`input_dim` argument to a layer. When using Sequential models, prefer using an `Input(shape)` object as the first layer in the model instead.\n",
      "  super().__init__(activity_regularizer=activity_regularizer, **kwargs)\n"
     ]
    }
   ],
   "source": [
    "from keras import Sequential\n",
    "from keras.layers import Dense\n",
    "from keras.callbacks import EarlyStopping, ModelCheckpoint\n",
    "from keras.layers import Dense, Dropout\n",
    "model = Sequential()\n",
    "model.add(Dense(units=12,input_dim=7,kernel_initializer='random_uniform',activation='relu'))\n",
    "model.add(Dropout(0.21))\n",
    "model.add(Dense(units=62,kernel_initializer='he_uniform',activation='relu'))\n",
    "model.add(Dropout(0.35))\n",
    "model.add(Dense(units=32,kernel_initializer='he_uniform',activation='relu'))\n",
    "model.add(Dropout(0.23))\n",
    "model.add(Dense(units=1,kernel_initializer='he_uniform'))\n",
    "model.compile(loss='mean_squared_error', optimizer='adam', metrics=['mse'])\n"
   ]
  },
  {
   "cell_type": "code",
   "execution_count": 225,
   "metadata": {},
   "outputs": [],
   "source": [
    "early_stop = EarlyStopping(\n",
    "    monitor='val_loss',\n",
    "    patience=7,\n",
    "    restore_best_weights=True,\n",
    "    verbose=1\n",
    ")"
   ]
  },
  {
   "cell_type": "code",
   "execution_count": 227,
   "metadata": {},
   "outputs": [],
   "source": [
    "checkpoint= ModelCheckpoint(\n",
    "    'car_model.keras',\n",
    "    monitor='val_loss',\n",
    "    save_best_only=True,\n",
    "    verbose=1\n",
    ")"
   ]
  },
  {
   "cell_type": "code",
   "execution_count": 229,
   "metadata": {},
   "outputs": [
    {
     "data": {
      "text/html": [
       "<pre style=\"white-space:pre;overflow-x:auto;line-height:normal;font-family:Menlo,'DejaVu Sans Mono',consolas,'Courier New',monospace\"><span style=\"font-weight: bold\">Model: \"sequential_19\"</span>\n",
       "</pre>\n"
      ],
      "text/plain": [
       "\u001b[1mModel: \"sequential_19\"\u001b[0m\n"
      ]
     },
     "metadata": {},
     "output_type": "display_data"
    },
    {
     "data": {
      "text/html": [
       "<pre style=\"white-space:pre;overflow-x:auto;line-height:normal;font-family:Menlo,'DejaVu Sans Mono',consolas,'Courier New',monospace\">┏━━━━━━━━━━━━━━━━━━━━━━━━━━━━━━━━━━━━━━┳━━━━━━━━━━━━━━━━━━━━━━━━━━━━━┳━━━━━━━━━━━━━━━━━┓\n",
       "┃<span style=\"font-weight: bold\"> Layer (type)                         </span>┃<span style=\"font-weight: bold\"> Output Shape                </span>┃<span style=\"font-weight: bold\">         Param # </span>┃\n",
       "┡━━━━━━━━━━━━━━━━━━━━━━━━━━━━━━━━━━━━━━╇━━━━━━━━━━━━━━━━━━━━━━━━━━━━━╇━━━━━━━━━━━━━━━━━┩\n",
       "│ dense_99 (<span style=\"color: #0087ff; text-decoration-color: #0087ff\">Dense</span>)                     │ (<span style=\"color: #00d7ff; text-decoration-color: #00d7ff\">None</span>, <span style=\"color: #00af00; text-decoration-color: #00af00\">12</span>)                  │              <span style=\"color: #00af00; text-decoration-color: #00af00\">96</span> │\n",
       "├──────────────────────────────────────┼─────────────────────────────┼─────────────────┤\n",
       "│ dropout_15 (<span style=\"color: #0087ff; text-decoration-color: #0087ff\">Dropout</span>)                 │ (<span style=\"color: #00d7ff; text-decoration-color: #00d7ff\">None</span>, <span style=\"color: #00af00; text-decoration-color: #00af00\">12</span>)                  │               <span style=\"color: #00af00; text-decoration-color: #00af00\">0</span> │\n",
       "├──────────────────────────────────────┼─────────────────────────────┼─────────────────┤\n",
       "│ dense_100 (<span style=\"color: #0087ff; text-decoration-color: #0087ff\">Dense</span>)                    │ (<span style=\"color: #00d7ff; text-decoration-color: #00d7ff\">None</span>, <span style=\"color: #00af00; text-decoration-color: #00af00\">62</span>)                  │             <span style=\"color: #00af00; text-decoration-color: #00af00\">806</span> │\n",
       "├──────────────────────────────────────┼─────────────────────────────┼─────────────────┤\n",
       "│ dropout_16 (<span style=\"color: #0087ff; text-decoration-color: #0087ff\">Dropout</span>)                 │ (<span style=\"color: #00d7ff; text-decoration-color: #00d7ff\">None</span>, <span style=\"color: #00af00; text-decoration-color: #00af00\">62</span>)                  │               <span style=\"color: #00af00; text-decoration-color: #00af00\">0</span> │\n",
       "├──────────────────────────────────────┼─────────────────────────────┼─────────────────┤\n",
       "│ dense_101 (<span style=\"color: #0087ff; text-decoration-color: #0087ff\">Dense</span>)                    │ (<span style=\"color: #00d7ff; text-decoration-color: #00d7ff\">None</span>, <span style=\"color: #00af00; text-decoration-color: #00af00\">32</span>)                  │           <span style=\"color: #00af00; text-decoration-color: #00af00\">2,016</span> │\n",
       "├──────────────────────────────────────┼─────────────────────────────┼─────────────────┤\n",
       "│ dropout_17 (<span style=\"color: #0087ff; text-decoration-color: #0087ff\">Dropout</span>)                 │ (<span style=\"color: #00d7ff; text-decoration-color: #00d7ff\">None</span>, <span style=\"color: #00af00; text-decoration-color: #00af00\">32</span>)                  │               <span style=\"color: #00af00; text-decoration-color: #00af00\">0</span> │\n",
       "├──────────────────────────────────────┼─────────────────────────────┼─────────────────┤\n",
       "│ dense_102 (<span style=\"color: #0087ff; text-decoration-color: #0087ff\">Dense</span>)                    │ (<span style=\"color: #00d7ff; text-decoration-color: #00d7ff\">None</span>, <span style=\"color: #00af00; text-decoration-color: #00af00\">1</span>)                   │              <span style=\"color: #00af00; text-decoration-color: #00af00\">33</span> │\n",
       "└──────────────────────────────────────┴─────────────────────────────┴─────────────────┘\n",
       "</pre>\n"
      ],
      "text/plain": [
       "┏━━━━━━━━━━━━━━━━━━━━━━━━━━━━━━━━━━━━━━┳━━━━━━━━━━━━━━━━━━━━━━━━━━━━━┳━━━━━━━━━━━━━━━━━┓\n",
       "┃\u001b[1m \u001b[0m\u001b[1mLayer (type)                        \u001b[0m\u001b[1m \u001b[0m┃\u001b[1m \u001b[0m\u001b[1mOutput Shape               \u001b[0m\u001b[1m \u001b[0m┃\u001b[1m \u001b[0m\u001b[1m        Param #\u001b[0m\u001b[1m \u001b[0m┃\n",
       "┡━━━━━━━━━━━━━━━━━━━━━━━━━━━━━━━━━━━━━━╇━━━━━━━━━━━━━━━━━━━━━━━━━━━━━╇━━━━━━━━━━━━━━━━━┩\n",
       "│ dense_99 (\u001b[38;5;33mDense\u001b[0m)                     │ (\u001b[38;5;45mNone\u001b[0m, \u001b[38;5;34m12\u001b[0m)                  │              \u001b[38;5;34m96\u001b[0m │\n",
       "├──────────────────────────────────────┼─────────────────────────────┼─────────────────┤\n",
       "│ dropout_15 (\u001b[38;5;33mDropout\u001b[0m)                 │ (\u001b[38;5;45mNone\u001b[0m, \u001b[38;5;34m12\u001b[0m)                  │               \u001b[38;5;34m0\u001b[0m │\n",
       "├──────────────────────────────────────┼─────────────────────────────┼─────────────────┤\n",
       "│ dense_100 (\u001b[38;5;33mDense\u001b[0m)                    │ (\u001b[38;5;45mNone\u001b[0m, \u001b[38;5;34m62\u001b[0m)                  │             \u001b[38;5;34m806\u001b[0m │\n",
       "├──────────────────────────────────────┼─────────────────────────────┼─────────────────┤\n",
       "│ dropout_16 (\u001b[38;5;33mDropout\u001b[0m)                 │ (\u001b[38;5;45mNone\u001b[0m, \u001b[38;5;34m62\u001b[0m)                  │               \u001b[38;5;34m0\u001b[0m │\n",
       "├──────────────────────────────────────┼─────────────────────────────┼─────────────────┤\n",
       "│ dense_101 (\u001b[38;5;33mDense\u001b[0m)                    │ (\u001b[38;5;45mNone\u001b[0m, \u001b[38;5;34m32\u001b[0m)                  │           \u001b[38;5;34m2,016\u001b[0m │\n",
       "├──────────────────────────────────────┼─────────────────────────────┼─────────────────┤\n",
       "│ dropout_17 (\u001b[38;5;33mDropout\u001b[0m)                 │ (\u001b[38;5;45mNone\u001b[0m, \u001b[38;5;34m32\u001b[0m)                  │               \u001b[38;5;34m0\u001b[0m │\n",
       "├──────────────────────────────────────┼─────────────────────────────┼─────────────────┤\n",
       "│ dense_102 (\u001b[38;5;33mDense\u001b[0m)                    │ (\u001b[38;5;45mNone\u001b[0m, \u001b[38;5;34m1\u001b[0m)                   │              \u001b[38;5;34m33\u001b[0m │\n",
       "└──────────────────────────────────────┴─────────────────────────────┴─────────────────┘\n"
      ]
     },
     "metadata": {},
     "output_type": "display_data"
    },
    {
     "data": {
      "text/html": [
       "<pre style=\"white-space:pre;overflow-x:auto;line-height:normal;font-family:Menlo,'DejaVu Sans Mono',consolas,'Courier New',monospace\"><span style=\"font-weight: bold\"> Total params: </span><span style=\"color: #00af00; text-decoration-color: #00af00\">2,951</span> (11.53 KB)\n",
       "</pre>\n"
      ],
      "text/plain": [
       "\u001b[1m Total params: \u001b[0m\u001b[38;5;34m2,951\u001b[0m (11.53 KB)\n"
      ]
     },
     "metadata": {},
     "output_type": "display_data"
    },
    {
     "data": {
      "text/html": [
       "<pre style=\"white-space:pre;overflow-x:auto;line-height:normal;font-family:Menlo,'DejaVu Sans Mono',consolas,'Courier New',monospace\"><span style=\"font-weight: bold\"> Trainable params: </span><span style=\"color: #00af00; text-decoration-color: #00af00\">2,951</span> (11.53 KB)\n",
       "</pre>\n"
      ],
      "text/plain": [
       "\u001b[1m Trainable params: \u001b[0m\u001b[38;5;34m2,951\u001b[0m (11.53 KB)\n"
      ]
     },
     "metadata": {},
     "output_type": "display_data"
    },
    {
     "data": {
      "text/html": [
       "<pre style=\"white-space:pre;overflow-x:auto;line-height:normal;font-family:Menlo,'DejaVu Sans Mono',consolas,'Courier New',monospace\"><span style=\"font-weight: bold\"> Non-trainable params: </span><span style=\"color: #00af00; text-decoration-color: #00af00\">0</span> (0.00 B)\n",
       "</pre>\n"
      ],
      "text/plain": [
       "\u001b[1m Non-trainable params: \u001b[0m\u001b[38;5;34m0\u001b[0m (0.00 B)\n"
      ]
     },
     "metadata": {},
     "output_type": "display_data"
    }
   ],
   "source": [
    "model.summary()"
   ]
  },
  {
   "cell_type": "code",
   "execution_count": 231,
   "metadata": {},
   "outputs": [],
   "source": [
    "model.compile(loss='mean_squared_error',optimizer='adam', metrics=['mse'])"
   ]
  },
  {
   "cell_type": "code",
   "execution_count": 237,
   "metadata": {},
   "outputs": [
    {
     "name": "stdout",
     "output_type": "stream",
     "text": [
      "Epoch 1/100\n",
      "\u001b[1m31/38\u001b[0m \u001b[32m━━━━━━━━━━━━━━━━\u001b[0m\u001b[37m━━━━\u001b[0m \u001b[1m0s\u001b[0m 3ms/step - loss: 16594463.0000 - mse: 16594463.0000\n",
      "Epoch 1: val_loss improved from 9369682.00000 to 9116633.00000, saving model to car_model.keras\n",
      "\u001b[1m38/38\u001b[0m \u001b[32m━━━━━━━━━━━━━━━━━━━━\u001b[0m\u001b[37m\u001b[0m \u001b[1m0s\u001b[0m 11ms/step - loss: 16898614.0000 - mse: 16898614.0000 - val_loss: 9116633.0000 - val_mse: 9116633.0000\n",
      "Epoch 2/100\n",
      "\u001b[1m34/38\u001b[0m \u001b[32m━━━━━━━━━━━━━━━━━\u001b[0m\u001b[37m━━━\u001b[0m \u001b[1m0s\u001b[0m 3ms/step - loss: 14959015.0000 - mse: 14959015.0000\n",
      "Epoch 2: val_loss improved from 9116633.00000 to 9009696.00000, saving model to car_model.keras\n",
      "\u001b[1m38/38\u001b[0m \u001b[32m━━━━━━━━━━━━━━━━━━━━\u001b[0m\u001b[37m\u001b[0m \u001b[1m0s\u001b[0m 9ms/step - loss: 15036220.0000 - mse: 15036220.0000 - val_loss: 9009696.0000 - val_mse: 9009696.0000\n",
      "Epoch 3/100\n",
      "\u001b[1m36/38\u001b[0m \u001b[32m━━━━━━━━━━━━━━━━━━\u001b[0m\u001b[37m━━\u001b[0m \u001b[1m0s\u001b[0m 3ms/step - loss: 16028752.0000 - mse: 16028752.0000\n",
      "Epoch 3: val_loss improved from 9009696.00000 to 8854125.00000, saving model to car_model.keras\n",
      "\u001b[1m38/38\u001b[0m \u001b[32m━━━━━━━━━━━━━━━━━━━━\u001b[0m\u001b[37m\u001b[0m \u001b[1m0s\u001b[0m 9ms/step - loss: 15968769.0000 - mse: 15968769.0000 - val_loss: 8854125.0000 - val_mse: 8854125.0000\n",
      "Epoch 4/100\n",
      "\u001b[1m30/38\u001b[0m \u001b[32m━━━━━━━━━━━━━━━\u001b[0m\u001b[37m━━━━━\u001b[0m \u001b[1m0s\u001b[0m 4ms/step - loss: 14867697.0000 - mse: 14867697.0000\n",
      "Epoch 4: val_loss improved from 8854125.00000 to 8667799.00000, saving model to car_model.keras\n",
      "\u001b[1m38/38\u001b[0m \u001b[32m━━━━━━━━━━━━━━━━━━━━\u001b[0m\u001b[37m\u001b[0m \u001b[1m0s\u001b[0m 10ms/step - loss: 14744187.0000 - mse: 14744187.0000 - val_loss: 8667799.0000 - val_mse: 8667799.0000\n",
      "Epoch 5/100\n",
      "\u001b[1m19/38\u001b[0m \u001b[32m━━━━━━━━━━\u001b[0m\u001b[37m━━━━━━━━━━\u001b[0m \u001b[1m0s\u001b[0m 3ms/step - loss: 16415233.0000 - mse: 16415233.0000 \n",
      "Epoch 5: val_loss improved from 8667799.00000 to 8626752.00000, saving model to car_model.keras\n",
      "\u001b[1m38/38\u001b[0m \u001b[32m━━━━━━━━━━━━━━━━━━━━\u001b[0m\u001b[37m\u001b[0m \u001b[1m0s\u001b[0m 8ms/step - loss: 16332955.0000 - mse: 16332955.0000 - val_loss: 8626752.0000 - val_mse: 8626752.0000\n",
      "Epoch 6/100\n",
      "\u001b[1m35/38\u001b[0m \u001b[32m━━━━━━━━━━━━━━━━━━\u001b[0m\u001b[37m━━\u001b[0m \u001b[1m0s\u001b[0m 3ms/step - loss: 14437536.0000 - mse: 14437536.0000\n",
      "Epoch 6: val_loss did not improve from 8626752.00000\n",
      "\u001b[1m38/38\u001b[0m \u001b[32m━━━━━━━━━━━━━━━━━━━━\u001b[0m\u001b[37m\u001b[0m \u001b[1m0s\u001b[0m 7ms/step - loss: 14451782.0000 - mse: 14451782.0000 - val_loss: 8628452.0000 - val_mse: 8628452.0000\n",
      "Epoch 7/100\n",
      "\u001b[1m32/38\u001b[0m \u001b[32m━━━━━━━━━━━━━━━━\u001b[0m\u001b[37m━━━━\u001b[0m \u001b[1m0s\u001b[0m 3ms/step - loss: 14879234.0000 - mse: 14879234.0000\n",
      "Epoch 7: val_loss improved from 8626752.00000 to 8245024.50000, saving model to car_model.keras\n",
      "\u001b[1m38/38\u001b[0m \u001b[32m━━━━━━━━━━━━━━━━━━━━\u001b[0m\u001b[37m\u001b[0m \u001b[1m1s\u001b[0m 14ms/step - loss: 14939745.0000 - mse: 14939746.0000 - val_loss: 8245024.5000 - val_mse: 8245024.5000\n",
      "Epoch 8/100\n",
      "\u001b[1m31/38\u001b[0m \u001b[32m━━━━━━━━━━━━━━━━\u001b[0m\u001b[37m━━━━\u001b[0m \u001b[1m0s\u001b[0m 5ms/step - loss: 15202048.0000 - mse: 15202048.0000\n",
      "Epoch 8: val_loss did not improve from 8245024.50000\n",
      "\u001b[1m38/38\u001b[0m \u001b[32m━━━━━━━━━━━━━━━━━━━━\u001b[0m\u001b[37m\u001b[0m \u001b[1m1s\u001b[0m 13ms/step - loss: 14866291.0000 - mse: 14866291.0000 - val_loss: 8288175.0000 - val_mse: 8288175.0000\n",
      "Epoch 9/100\n",
      "\u001b[1m31/38\u001b[0m \u001b[32m━━━━━━━━━━━━━━━━\u001b[0m\u001b[37m━━━━\u001b[0m \u001b[1m0s\u001b[0m 7ms/step - loss: 13784292.0000 - mse: 13784292.0000\n",
      "Epoch 9: val_loss improved from 8245024.50000 to 8057271.00000, saving model to car_model.keras\n",
      "\u001b[1m38/38\u001b[0m \u001b[32m━━━━━━━━━━━━━━━━━━━━\u001b[0m\u001b[37m\u001b[0m \u001b[1m1s\u001b[0m 16ms/step - loss: 14012848.0000 - mse: 14012848.0000 - val_loss: 8057271.0000 - val_mse: 8057271.0000\n",
      "Epoch 10/100\n",
      "\u001b[1m34/38\u001b[0m \u001b[32m━━━━━━━━━━━━━━━━━\u001b[0m\u001b[37m━━━\u001b[0m \u001b[1m0s\u001b[0m 3ms/step - loss: 14516885.0000 - mse: 14516885.0000\n",
      "Epoch 10: val_loss did not improve from 8057271.00000\n",
      "\u001b[1m38/38\u001b[0m \u001b[32m━━━━━━━━━━━━━━━━━━━━\u001b[0m\u001b[37m\u001b[0m \u001b[1m0s\u001b[0m 7ms/step - loss: 14474335.0000 - mse: 14474335.0000 - val_loss: 8151892.0000 - val_mse: 8151892.0000\n",
      "Epoch 11/100\n",
      "\u001b[1m31/38\u001b[0m \u001b[32m━━━━━━━━━━━━━━━━\u001b[0m\u001b[37m━━━━\u001b[0m \u001b[1m0s\u001b[0m 5ms/step - loss: 14622840.0000 - mse: 14622840.0000\n",
      "Epoch 11: val_loss improved from 8057271.00000 to 7710625.50000, saving model to car_model.keras\n",
      "\u001b[1m38/38\u001b[0m \u001b[32m━━━━━━━━━━━━━━━━━━━━\u001b[0m\u001b[37m\u001b[0m \u001b[1m1s\u001b[0m 15ms/step - loss: 14484534.0000 - mse: 14484534.0000 - val_loss: 7710625.5000 - val_mse: 7710626.5000\n",
      "Epoch 12/100\n",
      "\u001b[1m31/38\u001b[0m \u001b[32m━━━━━━━━━━━━━━━━\u001b[0m\u001b[37m━━━━\u001b[0m \u001b[1m0s\u001b[0m 6ms/step - loss: 13837591.0000 - mse: 13837592.0000\n",
      "Epoch 12: val_loss did not improve from 7710625.50000\n",
      "\u001b[1m38/38\u001b[0m \u001b[32m━━━━━━━━━━━━━━━━━━━━\u001b[0m\u001b[37m\u001b[0m \u001b[1m1s\u001b[0m 14ms/step - loss: 14173727.0000 - mse: 14173727.0000 - val_loss: 7754594.5000 - val_mse: 7754594.5000\n",
      "Epoch 13/100\n",
      "\u001b[1m36/38\u001b[0m \u001b[32m━━━━━━━━━━━━━━━━━━\u001b[0m\u001b[37m━━\u001b[0m \u001b[1m0s\u001b[0m 3ms/step - loss: 13380607.0000 - mse: 13380607.0000\n",
      "Epoch 13: val_loss improved from 7710625.50000 to 7667066.00000, saving model to car_model.keras\n",
      "\u001b[1m38/38\u001b[0m \u001b[32m━━━━━━━━━━━━━━━━━━━━\u001b[0m\u001b[37m\u001b[0m \u001b[1m0s\u001b[0m 9ms/step - loss: 13419227.0000 - mse: 13419227.0000 - val_loss: 7667066.0000 - val_mse: 7667066.0000\n",
      "Epoch 14/100\n",
      "\u001b[1m30/38\u001b[0m \u001b[32m━━━━━━━━━━━━━━━\u001b[0m\u001b[37m━━━━━\u001b[0m \u001b[1m0s\u001b[0m 4ms/step - loss: 15434957.0000 - mse: 15434957.0000\n",
      "Epoch 14: val_loss improved from 7667066.00000 to 7569384.00000, saving model to car_model.keras\n",
      "\u001b[1m38/38\u001b[0m \u001b[32m━━━━━━━━━━━━━━━━━━━━\u001b[0m\u001b[37m\u001b[0m \u001b[1m1s\u001b[0m 16ms/step - loss: 14967684.0000 - mse: 14967684.0000 - val_loss: 7569384.0000 - val_mse: 7569384.0000\n",
      "Epoch 15/100\n",
      "\u001b[1m38/38\u001b[0m \u001b[32m━━━━━━━━━━━━━━━━━━━━\u001b[0m\u001b[37m\u001b[0m \u001b[1m0s\u001b[0m 8ms/step - loss: 13899960.0000 - mse: 13899960.0000\n",
      "Epoch 15: val_loss did not improve from 7569384.00000\n",
      "\u001b[1m38/38\u001b[0m \u001b[32m━━━━━━━━━━━━━━━━━━━━\u001b[0m\u001b[37m\u001b[0m \u001b[1m1s\u001b[0m 16ms/step - loss: 13909109.0000 - mse: 13909109.0000 - val_loss: 7614938.5000 - val_mse: 7614938.5000\n",
      "Epoch 16/100\n",
      "\u001b[1m33/38\u001b[0m \u001b[32m━━━━━━━━━━━━━━━━━\u001b[0m\u001b[37m━━━\u001b[0m \u001b[1m0s\u001b[0m 3ms/step - loss: 14236003.0000 - mse: 14236003.0000\n",
      "Epoch 16: val_loss improved from 7569384.00000 to 7387868.50000, saving model to car_model.keras\n",
      "\u001b[1m38/38\u001b[0m \u001b[32m━━━━━━━━━━━━━━━━━━━━\u001b[0m\u001b[37m\u001b[0m \u001b[1m1s\u001b[0m 9ms/step - loss: 14041802.0000 - mse: 14041802.0000 - val_loss: 7387868.5000 - val_mse: 7387868.5000\n",
      "Epoch 17/100\n",
      "\u001b[1m38/38\u001b[0m \u001b[32m━━━━━━━━━━━━━━━━━━━━\u001b[0m\u001b[37m\u001b[0m \u001b[1m0s\u001b[0m 3ms/step - loss: 15095543.0000 - mse: 15095542.0000\n",
      "Epoch 17: val_loss improved from 7387868.50000 to 7194400.50000, saving model to car_model.keras\n",
      "\u001b[1m38/38\u001b[0m \u001b[32m━━━━━━━━━━━━━━━━━━━━\u001b[0m\u001b[37m\u001b[0m \u001b[1m0s\u001b[0m 9ms/step - loss: 15048022.0000 - mse: 15048022.0000 - val_loss: 7194400.5000 - val_mse: 7194401.5000\n",
      "Epoch 18/100\n",
      "\u001b[1m36/38\u001b[0m \u001b[32m━━━━━━━━━━━━━━━━━━\u001b[0m\u001b[37m━━\u001b[0m \u001b[1m0s\u001b[0m 3ms/step - loss: 11927055.0000 - mse: 11927054.0000\n",
      "Epoch 18: val_loss improved from 7194400.50000 to 6908650.00000, saving model to car_model.keras\n",
      "\u001b[1m38/38\u001b[0m \u001b[32m━━━━━━━━━━━━━━━━━━━━\u001b[0m\u001b[37m\u001b[0m \u001b[1m0s\u001b[0m 9ms/step - loss: 11966981.0000 - mse: 11966980.0000 - val_loss: 6908650.0000 - val_mse: 6908650.0000\n",
      "Epoch 19/100\n",
      "\u001b[1m32/38\u001b[0m \u001b[32m━━━━━━━━━━━━━━━━\u001b[0m\u001b[37m━━━━\u001b[0m \u001b[1m0s\u001b[0m 3ms/step - loss: 13606431.0000 - mse: 13606431.0000\n",
      "Epoch 19: val_loss did not improve from 6908650.00000\n",
      "\u001b[1m38/38\u001b[0m \u001b[32m━━━━━━━━━━━━━━━━━━━━\u001b[0m\u001b[37m\u001b[0m \u001b[1m0s\u001b[0m 8ms/step - loss: 13496651.0000 - mse: 13496651.0000 - val_loss: 7045367.5000 - val_mse: 7045367.5000\n",
      "Epoch 20/100\n",
      "\u001b[1m38/38\u001b[0m \u001b[32m━━━━━━━━━━━━━━━━━━━━\u001b[0m\u001b[37m\u001b[0m \u001b[1m0s\u001b[0m 3ms/step - loss: 12931544.0000 - mse: 12931544.0000\n",
      "Epoch 20: val_loss improved from 6908650.00000 to 6905616.50000, saving model to car_model.keras\n",
      "\u001b[1m38/38\u001b[0m \u001b[32m━━━━━━━━━━━━━━━━━━━━\u001b[0m\u001b[37m\u001b[0m \u001b[1m0s\u001b[0m 9ms/step - loss: 12920233.0000 - mse: 12920233.0000 - val_loss: 6905616.5000 - val_mse: 6905616.5000\n",
      "Epoch 21/100\n",
      "\u001b[1m34/38\u001b[0m \u001b[32m━━━━━━━━━━━━━━━━━\u001b[0m\u001b[37m━━━\u001b[0m \u001b[1m0s\u001b[0m 3ms/step - loss: 11493111.0000 - mse: 11493111.0000\n",
      "Epoch 21: val_loss did not improve from 6905616.50000\n",
      "\u001b[1m38/38\u001b[0m \u001b[32m━━━━━━━━━━━━━━━━━━━━\u001b[0m\u001b[37m\u001b[0m \u001b[1m0s\u001b[0m 8ms/step - loss: 11635802.0000 - mse: 11635802.0000 - val_loss: 7020491.0000 - val_mse: 7020491.0000\n",
      "Epoch 22/100\n",
      "\u001b[1m36/38\u001b[0m \u001b[32m━━━━━━━━━━━━━━━━━━\u001b[0m\u001b[37m━━\u001b[0m \u001b[1m0s\u001b[0m 3ms/step - loss: 14241283.0000 - mse: 14241283.0000\n",
      "Epoch 22: val_loss improved from 6905616.50000 to 6881765.00000, saving model to car_model.keras\n",
      "\u001b[1m38/38\u001b[0m \u001b[32m━━━━━━━━━━━━━━━━━━━━\u001b[0m\u001b[37m\u001b[0m \u001b[1m0s\u001b[0m 9ms/step - loss: 14196954.0000 - mse: 14196954.0000 - val_loss: 6881765.0000 - val_mse: 6881765.0000\n",
      "Epoch 23/100\n",
      "\u001b[1m35/38\u001b[0m \u001b[32m━━━━━━━━━━━━━━━━━━\u001b[0m\u001b[37m━━\u001b[0m \u001b[1m0s\u001b[0m 3ms/step - loss: 12185075.0000 - mse: 12185075.0000\n",
      "Epoch 23: val_loss improved from 6881765.00000 to 6831832.50000, saving model to car_model.keras\n",
      "\u001b[1m38/38\u001b[0m \u001b[32m━━━━━━━━━━━━━━━━━━━━\u001b[0m\u001b[37m\u001b[0m \u001b[1m0s\u001b[0m 10ms/step - loss: 12243510.0000 - mse: 12243510.0000 - val_loss: 6831832.5000 - val_mse: 6831832.5000\n",
      "Epoch 24/100\n",
      "\u001b[1m32/38\u001b[0m \u001b[32m━━━━━━━━━━━━━━━━\u001b[0m\u001b[37m━━━━\u001b[0m \u001b[1m0s\u001b[0m 3ms/step - loss: 12787680.0000 - mse: 12787680.0000\n",
      "Epoch 24: val_loss improved from 6831832.50000 to 6287000.50000, saving model to car_model.keras\n",
      "\u001b[1m38/38\u001b[0m \u001b[32m━━━━━━━━━━━━━━━━━━━━\u001b[0m\u001b[37m\u001b[0m \u001b[1m0s\u001b[0m 11ms/step - loss: 12877354.0000 - mse: 12877354.0000 - val_loss: 6287000.5000 - val_mse: 6287000.5000\n",
      "Epoch 25/100\n",
      "\u001b[1m37/38\u001b[0m \u001b[32m━━━━━━━━━━━━━━━━━━━\u001b[0m\u001b[37m━\u001b[0m \u001b[1m0s\u001b[0m 3ms/step - loss: 13061493.0000 - mse: 13061493.0000\n",
      "Epoch 25: val_loss improved from 6287000.50000 to 6246431.00000, saving model to car_model.keras\n",
      "\u001b[1m38/38\u001b[0m \u001b[32m━━━━━━━━━━━━━━━━━━━━\u001b[0m\u001b[37m\u001b[0m \u001b[1m1s\u001b[0m 9ms/step - loss: 13039779.0000 - mse: 13039779.0000 - val_loss: 6246431.0000 - val_mse: 6246431.0000\n",
      "Epoch 26/100\n",
      "\u001b[1m25/38\u001b[0m \u001b[32m━━━━━━━━━━━━━\u001b[0m\u001b[37m━━━━━━━\u001b[0m \u001b[1m0s\u001b[0m 5ms/step - loss: 14295160.0000 - mse: 14295160.0000 \n",
      "Epoch 26: val_loss did not improve from 6246431.00000\n",
      "\u001b[1m38/38\u001b[0m \u001b[32m━━━━━━━━━━━━━━━━━━━━\u001b[0m\u001b[37m\u001b[0m \u001b[1m0s\u001b[0m 11ms/step - loss: 13648134.0000 - mse: 13648134.0000 - val_loss: 6367877.5000 - val_mse: 6367877.5000\n",
      "Epoch 27/100\n",
      "\u001b[1m35/38\u001b[0m \u001b[32m━━━━━━━━━━━━━━━━━━\u001b[0m\u001b[37m━━\u001b[0m \u001b[1m0s\u001b[0m 3ms/step - loss: 14608245.0000 - mse: 14608246.0000  \n",
      "Epoch 27: val_loss improved from 6246431.00000 to 6139089.00000, saving model to car_model.keras\n",
      "\u001b[1m38/38\u001b[0m \u001b[32m━━━━━━━━━━━━━━━━━━━━\u001b[0m\u001b[37m\u001b[0m \u001b[1m1s\u001b[0m 9ms/step - loss: 14468524.0000 - mse: 14468525.0000 - val_loss: 6139089.0000 - val_mse: 6139089.0000\n",
      "Epoch 28/100\n",
      "\u001b[1m35/38\u001b[0m \u001b[32m━━━━━━━━━━━━━━━━━━\u001b[0m\u001b[37m━━\u001b[0m \u001b[1m0s\u001b[0m 3ms/step - loss: 11025580.0000 - mse: 11025580.0000\n",
      "Epoch 28: val_loss improved from 6139089.00000 to 5892926.00000, saving model to car_model.keras\n",
      "\u001b[1m38/38\u001b[0m \u001b[32m━━━━━━━━━━━━━━━━━━━━\u001b[0m\u001b[37m\u001b[0m \u001b[1m0s\u001b[0m 10ms/step - loss: 11078169.0000 - mse: 11078169.0000 - val_loss: 5892926.0000 - val_mse: 5892926.0000\n",
      "Epoch 29/100\n",
      "\u001b[1m36/38\u001b[0m \u001b[32m━━━━━━━━━━━━━━━━━━\u001b[0m\u001b[37m━━\u001b[0m \u001b[1m0s\u001b[0m 3ms/step - loss: 13481216.0000 - mse: 13481216.0000\n",
      "Epoch 29: val_loss improved from 5892926.00000 to 5867089.00000, saving model to car_model.keras\n",
      "\u001b[1m38/38\u001b[0m \u001b[32m━━━━━━━━━━━━━━━━━━━━\u001b[0m\u001b[37m\u001b[0m \u001b[1m0s\u001b[0m 10ms/step - loss: 13381938.0000 - mse: 13381938.0000 - val_loss: 5867089.0000 - val_mse: 5867089.0000\n",
      "Epoch 30/100\n",
      "\u001b[1m20/38\u001b[0m \u001b[32m━━━━━━━━━━\u001b[0m\u001b[37m━━━━━━━━━━\u001b[0m \u001b[1m0s\u001b[0m 3ms/step - loss: 12221808.0000 - mse: 12221808.0000 \n",
      "Epoch 30: val_loss did not improve from 5867089.00000\n",
      "\u001b[1m38/38\u001b[0m \u001b[32m━━━━━━━━━━━━━━━━━━━━\u001b[0m\u001b[37m\u001b[0m \u001b[1m0s\u001b[0m 7ms/step - loss: 11954626.0000 - mse: 11954626.0000 - val_loss: 5889479.0000 - val_mse: 5889479.0000\n",
      "Epoch 31/100\n",
      "\u001b[1m36/38\u001b[0m \u001b[32m━━━━━━━━━━━━━━━━━━\u001b[0m\u001b[37m━━\u001b[0m \u001b[1m0s\u001b[0m 3ms/step - loss: 11844736.0000 - mse: 11844736.0000\n",
      "Epoch 31: val_loss improved from 5867089.00000 to 5796844.50000, saving model to car_model.keras\n",
      "\u001b[1m38/38\u001b[0m \u001b[32m━━━━━━━━━━━━━━━━━━━━\u001b[0m\u001b[37m\u001b[0m \u001b[1m0s\u001b[0m 9ms/step - loss: 11886592.0000 - mse: 11886592.0000 - val_loss: 5796844.5000 - val_mse: 5796845.0000\n",
      "Epoch 32/100\n",
      "\u001b[1m20/38\u001b[0m \u001b[32m━━━━━━━━━━\u001b[0m\u001b[37m━━━━━━━━━━\u001b[0m \u001b[1m0s\u001b[0m 3ms/step - loss: 10518653.0000 - mse: 10518653.0000\n",
      "Epoch 32: val_loss improved from 5796844.50000 to 5658624.50000, saving model to car_model.keras\n",
      "\u001b[1m38/38\u001b[0m \u001b[32m━━━━━━━━━━━━━━━━━━━━\u001b[0m\u001b[37m\u001b[0m \u001b[1m0s\u001b[0m 9ms/step - loss: 10779948.0000 - mse: 10779947.0000 - val_loss: 5658624.5000 - val_mse: 5658624.5000\n",
      "Epoch 33/100\n",
      "\u001b[1m33/38\u001b[0m \u001b[32m━━━━━━━━━━━━━━━━━\u001b[0m\u001b[37m━━━\u001b[0m \u001b[1m0s\u001b[0m 3ms/step - loss: 11649532.0000 - mse: 11649532.0000  \n",
      "Epoch 33: val_loss improved from 5658624.50000 to 5267600.00000, saving model to car_model.keras\n",
      "\u001b[1m38/38\u001b[0m \u001b[32m━━━━━━━━━━━━━━━━━━━━\u001b[0m\u001b[37m\u001b[0m \u001b[1m1s\u001b[0m 9ms/step - loss: 11556051.0000 - mse: 11556051.0000 - val_loss: 5267600.0000 - val_mse: 5267600.5000\n",
      "Epoch 34/100\n",
      "\u001b[1m34/38\u001b[0m \u001b[32m━━━━━━━━━━━━━━━━━\u001b[0m\u001b[37m━━━\u001b[0m \u001b[1m0s\u001b[0m 3ms/step - loss: 11390085.0000 - mse: 11390085.0000  \n",
      "Epoch 34: val_loss did not improve from 5267600.00000\n",
      "\u001b[1m38/38\u001b[0m \u001b[32m━━━━━━━━━━━━━━━━━━━━\u001b[0m\u001b[37m\u001b[0m \u001b[1m1s\u001b[0m 7ms/step - loss: 11356134.0000 - mse: 11356134.0000 - val_loss: 5880147.0000 - val_mse: 5880147.0000\n",
      "Epoch 35/100\n",
      "\u001b[1m20/38\u001b[0m \u001b[32m━━━━━━━━━━\u001b[0m\u001b[37m━━━━━━━━━━\u001b[0m \u001b[1m0s\u001b[0m 3ms/step - loss: 9298983.0000 - mse: 9298982.0000 \n",
      "Epoch 35: val_loss did not improve from 5267600.00000\n",
      "\u001b[1m38/38\u001b[0m \u001b[32m━━━━━━━━━━━━━━━━━━━━\u001b[0m\u001b[37m\u001b[0m \u001b[1m0s\u001b[0m 7ms/step - loss: 10112143.0000 - mse: 10112143.0000 - val_loss: 5381137.0000 - val_mse: 5381137.0000\n",
      "Epoch 36/100\n",
      "\u001b[1m37/38\u001b[0m \u001b[32m━━━━━━━━━━━━━━━━━━━\u001b[0m\u001b[37m━\u001b[0m \u001b[1m0s\u001b[0m 3ms/step - loss: 11649796.0000 - mse: 11649796.0000\n",
      "Epoch 36: val_loss did not improve from 5267600.00000\n",
      "\u001b[1m38/38\u001b[0m \u001b[32m━━━━━━━━━━━━━━━━━━━━\u001b[0m\u001b[37m\u001b[0m \u001b[1m0s\u001b[0m 8ms/step - loss: 11675707.0000 - mse: 11675707.0000 - val_loss: 5311261.0000 - val_mse: 5311261.0000\n",
      "Epoch 37/100\n",
      "\u001b[1m37/38\u001b[0m \u001b[32m━━━━━━━━━━━━━━━━━━━\u001b[0m\u001b[37m━\u001b[0m \u001b[1m0s\u001b[0m 3ms/step - loss: 10264534.0000 - mse: 10264534.0000\n",
      "Epoch 37: val_loss improved from 5267600.00000 to 5187317.50000, saving model to car_model.keras\n",
      "\u001b[1m38/38\u001b[0m \u001b[32m━━━━━━━━━━━━━━━━━━━━\u001b[0m\u001b[37m\u001b[0m \u001b[1m0s\u001b[0m 9ms/step - loss: 10277978.0000 - mse: 10277978.0000 - val_loss: 5187317.5000 - val_mse: 5187317.5000\n",
      "Epoch 38/100\n",
      "\u001b[1m22/38\u001b[0m \u001b[32m━━━━━━━━━━━\u001b[0m\u001b[37m━━━━━━━━━\u001b[0m \u001b[1m0s\u001b[0m 3ms/step - loss: 9560002.0000 - mse: 9560001.0000   \n",
      "Epoch 38: val_loss improved from 5187317.50000 to 5098579.00000, saving model to car_model.keras\n",
      "\u001b[1m38/38\u001b[0m \u001b[32m━━━━━━━━━━━━━━━━━━━━\u001b[0m\u001b[37m\u001b[0m \u001b[1m0s\u001b[0m 9ms/step - loss: 9533449.0000 - mse: 9533448.0000 - val_loss: 5098579.0000 - val_mse: 5098579.0000\n",
      "Epoch 39/100\n",
      "\u001b[1m34/38\u001b[0m \u001b[32m━━━━━━━━━━━━━━━━━\u001b[0m\u001b[37m━━━\u001b[0m \u001b[1m0s\u001b[0m 3ms/step - loss: 9902367.0000 - mse: 9902367.0000  \n",
      "Epoch 39: val_loss improved from 5098579.00000 to 4857855.00000, saving model to car_model.keras\n",
      "\u001b[1m38/38\u001b[0m \u001b[32m━━━━━━━━━━━━━━━━━━━━\u001b[0m\u001b[37m\u001b[0m \u001b[1m0s\u001b[0m 8ms/step - loss: 9931330.0000 - mse: 9931330.0000 - val_loss: 4857855.0000 - val_mse: 4857855.0000\n",
      "Epoch 40/100\n",
      "\u001b[1m19/38\u001b[0m \u001b[32m━━━━━━━━━━\u001b[0m\u001b[37m━━━━━━━━━━\u001b[0m \u001b[1m0s\u001b[0m 3ms/step - loss: 9656418.0000 - mse: 9656418.0000 \n",
      "Epoch 40: val_loss did not improve from 4857855.00000\n",
      "\u001b[1m38/38\u001b[0m \u001b[32m━━━━━━━━━━━━━━━━━━━━\u001b[0m\u001b[37m\u001b[0m \u001b[1m0s\u001b[0m 7ms/step - loss: 10493075.0000 - mse: 10493075.0000 - val_loss: 5010985.0000 - val_mse: 5010985.0000\n",
      "Epoch 41/100\n",
      "\u001b[1m34/38\u001b[0m \u001b[32m━━━━━━━━━━━━━━━━━\u001b[0m\u001b[37m━━━\u001b[0m \u001b[1m0s\u001b[0m 4ms/step - loss: 9214078.0000 - mse: 9214078.0000\n",
      "Epoch 41: val_loss did not improve from 4857855.00000\n",
      "\u001b[1m38/38\u001b[0m \u001b[32m━━━━━━━━━━━━━━━━━━━━\u001b[0m\u001b[37m\u001b[0m \u001b[1m0s\u001b[0m 11ms/step - loss: 9267089.0000 - mse: 9267089.0000 - val_loss: 4918544.0000 - val_mse: 4918544.0000\n",
      "Epoch 42/100\n",
      "\u001b[1m37/38\u001b[0m \u001b[32m━━━━━━━━━━━━━━━━━━━\u001b[0m\u001b[37m━\u001b[0m \u001b[1m0s\u001b[0m 3ms/step - loss: 10151938.0000 - mse: 10151938.0000\n",
      "Epoch 42: val_loss improved from 4857855.00000 to 4744773.00000, saving model to car_model.keras\n",
      "\u001b[1m38/38\u001b[0m \u001b[32m━━━━━━━━━━━━━━━━━━━━\u001b[0m\u001b[37m\u001b[0m \u001b[1m1s\u001b[0m 9ms/step - loss: 10184016.0000 - mse: 10184016.0000 - val_loss: 4744773.0000 - val_mse: 4744773.0000\n",
      "Epoch 43/100\n",
      "\u001b[1m35/38\u001b[0m \u001b[32m━━━━━━━━━━━━━━━━━━\u001b[0m\u001b[37m━━\u001b[0m \u001b[1m0s\u001b[0m 3ms/step - loss: 10912080.0000 - mse: 10912080.0000\n",
      "Epoch 43: val_loss improved from 4744773.00000 to 4452770.00000, saving model to car_model.keras\n",
      "\u001b[1m38/38\u001b[0m \u001b[32m━━━━━━━━━━━━━━━━━━━━\u001b[0m\u001b[37m\u001b[0m \u001b[1m0s\u001b[0m 11ms/step - loss: 10961461.0000 - mse: 10961461.0000 - val_loss: 4452770.0000 - val_mse: 4452770.0000\n",
      "Epoch 44/100\n",
      "\u001b[1m33/38\u001b[0m \u001b[32m━━━━━━━━━━━━━━━━━\u001b[0m\u001b[37m━━━\u001b[0m \u001b[1m0s\u001b[0m 6ms/step - loss: 9421472.0000 - mse: 9421472.0000\n",
      "Epoch 44: val_loss did not improve from 4452770.00000\n",
      "\u001b[1m38/38\u001b[0m \u001b[32m━━━━━━━━━━━━━━━━━━━━\u001b[0m\u001b[37m\u001b[0m \u001b[1m1s\u001b[0m 13ms/step - loss: 9522078.0000 - mse: 9522078.0000 - val_loss: 4674180.0000 - val_mse: 4674180.0000\n",
      "Epoch 45/100\n",
      "\u001b[1m21/38\u001b[0m \u001b[32m━━━━━━━━━━━\u001b[0m\u001b[37m━━━━━━━━━\u001b[0m \u001b[1m0s\u001b[0m 3ms/step - loss: 9950570.0000 - mse: 9950570.0000  \n",
      "Epoch 45: val_loss improved from 4452770.00000 to 4262996.50000, saving model to car_model.keras\n",
      "\u001b[1m38/38\u001b[0m \u001b[32m━━━━━━━━━━━━━━━━━━━━\u001b[0m\u001b[37m\u001b[0m \u001b[1m1s\u001b[0m 9ms/step - loss: 9754641.0000 - mse: 9754641.0000 - val_loss: 4262996.5000 - val_mse: 4262996.5000\n",
      "Epoch 46/100\n",
      "\u001b[1m37/38\u001b[0m \u001b[32m━━━━━━━━━━━━━━━━━━━\u001b[0m\u001b[37m━\u001b[0m \u001b[1m0s\u001b[0m 3ms/step - loss: 9700464.0000 - mse: 9700464.0000  \n",
      "Epoch 46: val_loss did not improve from 4262996.50000\n",
      "\u001b[1m38/38\u001b[0m \u001b[32m━━━━━━━━━━━━━━━━━━━━\u001b[0m\u001b[37m\u001b[0m \u001b[1m0s\u001b[0m 8ms/step - loss: 9721859.0000 - mse: 9721859.0000 - val_loss: 4416736.5000 - val_mse: 4416736.5000\n",
      "Epoch 47/100\n",
      "\u001b[1m37/38\u001b[0m \u001b[32m━━━━━━━━━━━━━━━━━━━\u001b[0m\u001b[37m━\u001b[0m \u001b[1m0s\u001b[0m 3ms/step - loss: 8208391.0000 - mse: 8208391.0000  \n",
      "Epoch 47: val_loss did not improve from 4262996.50000\n",
      "\u001b[1m38/38\u001b[0m \u001b[32m━━━━━━━━━━━━━━━━━━━━\u001b[0m\u001b[37m\u001b[0m \u001b[1m1s\u001b[0m 8ms/step - loss: 8277251.5000 - mse: 8277251.5000 - val_loss: 4504839.0000 - val_mse: 4504839.0000\n",
      "Epoch 48/100\n",
      "\u001b[1m37/38\u001b[0m \u001b[32m━━━━━━━━━━━━━━━━━━━\u001b[0m\u001b[37m━\u001b[0m \u001b[1m0s\u001b[0m 3ms/step - loss: 9354097.0000 - mse: 9354097.0000\n",
      "Epoch 48: val_loss improved from 4262996.50000 to 4101145.75000, saving model to car_model.keras\n",
      "\u001b[1m38/38\u001b[0m \u001b[32m━━━━━━━━━━━━━━━━━━━━\u001b[0m\u001b[37m\u001b[0m \u001b[1m0s\u001b[0m 9ms/step - loss: 9397854.0000 - mse: 9397854.0000 - val_loss: 4101145.7500 - val_mse: 4101145.7500\n",
      "Epoch 49/100\n",
      "\u001b[1m38/38\u001b[0m \u001b[32m━━━━━━━━━━━━━━━━━━━━\u001b[0m\u001b[37m\u001b[0m \u001b[1m0s\u001b[0m 3ms/step - loss: 9013372.0000 - mse: 9013373.0000  \n",
      "Epoch 49: val_loss improved from 4101145.75000 to 4080992.00000, saving model to car_model.keras\n",
      "\u001b[1m38/38\u001b[0m \u001b[32m━━━━━━━━━━━━━━━━━━━━\u001b[0m\u001b[37m\u001b[0m \u001b[1m0s\u001b[0m 8ms/step - loss: 9009977.0000 - mse: 9009978.0000 - val_loss: 4080992.0000 - val_mse: 4080992.0000\n",
      "Epoch 50/100\n",
      "\u001b[1m38/38\u001b[0m \u001b[32m━━━━━━━━━━━━━━━━━━━━\u001b[0m\u001b[37m\u001b[0m \u001b[1m0s\u001b[0m 3ms/step - loss: 9088598.0000 - mse: 9088598.0000  \n",
      "Epoch 50: val_loss did not improve from 4080992.00000\n",
      "\u001b[1m38/38\u001b[0m \u001b[32m━━━━━━━━━━━━━━━━━━━━\u001b[0m\u001b[37m\u001b[0m \u001b[1m0s\u001b[0m 7ms/step - loss: 9098637.0000 - mse: 9098637.0000 - val_loss: 4204491.5000 - val_mse: 4204491.5000\n",
      "Epoch 51/100\n",
      "\u001b[1m38/38\u001b[0m \u001b[32m━━━━━━━━━━━━━━━━━━━━\u001b[0m\u001b[37m\u001b[0m \u001b[1m0s\u001b[0m 3ms/step - loss: 9623100.0000 - mse: 9623100.0000\n",
      "Epoch 51: val_loss did not improve from 4080992.00000\n",
      "\u001b[1m38/38\u001b[0m \u001b[32m━━━━━━━━━━━━━━━━━━━━\u001b[0m\u001b[37m\u001b[0m \u001b[1m0s\u001b[0m 7ms/step - loss: 9636021.0000 - mse: 9636021.0000 - val_loss: 4211178.5000 - val_mse: 4211178.5000\n",
      "Epoch 52/100\n",
      "\u001b[1m37/38\u001b[0m \u001b[32m━━━━━━━━━━━━━━━━━━━\u001b[0m\u001b[37m━\u001b[0m \u001b[1m0s\u001b[0m 3ms/step - loss: 9571253.0000 - mse: 9571253.0000\n",
      "Epoch 52: val_loss did not improve from 4080992.00000\n",
      "\u001b[1m38/38\u001b[0m \u001b[32m━━━━━━━━━━━━━━━━━━━━\u001b[0m\u001b[37m\u001b[0m \u001b[1m0s\u001b[0m 7ms/step - loss: 9574558.0000 - mse: 9574558.0000 - val_loss: 4123030.5000 - val_mse: 4123030.5000\n",
      "Epoch 53/100\n",
      "\u001b[1m21/38\u001b[0m \u001b[32m━━━━━━━━━━━\u001b[0m\u001b[37m━━━━━━━━━\u001b[0m \u001b[1m0s\u001b[0m 3ms/step - loss: 7986040.5000 - mse: 7986040.5000 \n",
      "Epoch 53: val_loss improved from 4080992.00000 to 4044099.75000, saving model to car_model.keras\n",
      "\u001b[1m38/38\u001b[0m \u001b[32m━━━━━━━━━━━━━━━━━━━━\u001b[0m\u001b[37m\u001b[0m \u001b[1m0s\u001b[0m 9ms/step - loss: 8588345.0000 - mse: 8588345.0000 - val_loss: 4044099.7500 - val_mse: 4044099.7500\n",
      "Epoch 54/100\n",
      "\u001b[1m21/38\u001b[0m \u001b[32m━━━━━━━━━━━\u001b[0m\u001b[37m━━━━━━━━━\u001b[0m \u001b[1m0s\u001b[0m 3ms/step - loss: 7042593.5000 - mse: 7042593.5000   \n",
      "Epoch 54: val_loss improved from 4044099.75000 to 3846404.75000, saving model to car_model.keras\n",
      "\u001b[1m38/38\u001b[0m \u001b[32m━━━━━━━━━━━━━━━━━━━━\u001b[0m\u001b[37m\u001b[0m \u001b[1m1s\u001b[0m 10ms/step - loss: 7533929.0000 - mse: 7533929.0000 - val_loss: 3846404.7500 - val_mse: 3846404.7500\n",
      "Epoch 55/100\n",
      "\u001b[1m20/38\u001b[0m \u001b[32m━━━━━━━━━━\u001b[0m\u001b[37m━━━━━━━━━━\u001b[0m \u001b[1m0s\u001b[0m 3ms/step - loss: 8243452.5000 - mse: 8243452.5000 \n",
      "Epoch 55: val_loss improved from 3846404.75000 to 3667903.50000, saving model to car_model.keras\n",
      "\u001b[1m38/38\u001b[0m \u001b[32m━━━━━━━━━━━━━━━━━━━━\u001b[0m\u001b[37m\u001b[0m \u001b[1m0s\u001b[0m 9ms/step - loss: 8680721.0000 - mse: 8680721.0000 - val_loss: 3667903.5000 - val_mse: 3667903.5000\n",
      "Epoch 56/100\n",
      "\u001b[1m36/38\u001b[0m \u001b[32m━━━━━━━━━━━━━━━━━━\u001b[0m\u001b[37m━━\u001b[0m \u001b[1m0s\u001b[0m 3ms/step - loss: 9393566.0000 - mse: 9393566.0000\n",
      "Epoch 56: val_loss did not improve from 3667903.50000\n",
      "\u001b[1m38/38\u001b[0m \u001b[32m━━━━━━━━━━━━━━━━━━━━\u001b[0m\u001b[37m\u001b[0m \u001b[1m0s\u001b[0m 7ms/step - loss: 9389625.0000 - mse: 9389625.0000 - val_loss: 3897124.7500 - val_mse: 3897124.7500\n",
      "Epoch 57/100\n",
      "\u001b[1m37/38\u001b[0m \u001b[32m━━━━━━━━━━━━━━━━━━━\u001b[0m\u001b[37m━\u001b[0m \u001b[1m0s\u001b[0m 3ms/step - loss: 8277871.5000 - mse: 8277871.5000\n",
      "Epoch 57: val_loss improved from 3667903.50000 to 3638137.25000, saving model to car_model.keras\n",
      "\u001b[1m38/38\u001b[0m \u001b[32m━━━━━━━━━━━━━━━━━━━━\u001b[0m\u001b[37m\u001b[0m \u001b[1m0s\u001b[0m 9ms/step - loss: 8289110.0000 - mse: 8289110.0000 - val_loss: 3638137.2500 - val_mse: 3638137.2500\n",
      "Epoch 58/100\n",
      "\u001b[1m20/38\u001b[0m \u001b[32m━━━━━━━━━━\u001b[0m\u001b[37m━━━━━━━━━━\u001b[0m \u001b[1m0s\u001b[0m 3ms/step - loss: 8157860.0000 - mse: 8157860.5000 \n",
      "Epoch 58: val_loss improved from 3638137.25000 to 3538218.75000, saving model to car_model.keras\n",
      "\u001b[1m38/38\u001b[0m \u001b[32m━━━━━━━━━━━━━━━━━━━━\u001b[0m\u001b[37m\u001b[0m \u001b[1m0s\u001b[0m 9ms/step - loss: 8172231.0000 - mse: 8172231.0000 - val_loss: 3538218.7500 - val_mse: 3538218.7500\n",
      "Epoch 59/100\n",
      "\u001b[1m37/38\u001b[0m \u001b[32m━━━━━━━━━━━━━━━━━━━\u001b[0m\u001b[37m━\u001b[0m \u001b[1m0s\u001b[0m 3ms/step - loss: 9195029.0000 - mse: 9195029.0000\n",
      "Epoch 59: val_loss did not improve from 3538218.75000\n",
      "\u001b[1m38/38\u001b[0m \u001b[32m━━━━━━━━━━━━━━━━━━━━\u001b[0m\u001b[37m\u001b[0m \u001b[1m0s\u001b[0m 9ms/step - loss: 9187967.0000 - mse: 9187967.0000 - val_loss: 3835885.0000 - val_mse: 3835885.0000\n",
      "Epoch 60/100\n",
      "\u001b[1m36/38\u001b[0m \u001b[32m━━━━━━━━━━━━━━━━━━\u001b[0m\u001b[37m━━\u001b[0m \u001b[1m0s\u001b[0m 3ms/step - loss: 7801658.5000 - mse: 7801658.5000\n",
      "Epoch 60: val_loss improved from 3538218.75000 to 3416847.00000, saving model to car_model.keras\n",
      "\u001b[1m38/38\u001b[0m \u001b[32m━━━━━━━━━━━━━━━━━━━━\u001b[0m\u001b[37m\u001b[0m \u001b[1m0s\u001b[0m 9ms/step - loss: 7829444.0000 - mse: 7829444.0000 - val_loss: 3416847.0000 - val_mse: 3416847.0000\n",
      "Epoch 61/100\n",
      "\u001b[1m27/38\u001b[0m \u001b[32m━━━━━━━━━━━━━━\u001b[0m\u001b[37m━━━━━━\u001b[0m \u001b[1m0s\u001b[0m 7ms/step - loss: 8723038.0000 - mse: 8723038.0000\n",
      "Epoch 61: val_loss did not improve from 3416847.00000\n",
      "\u001b[1m38/38\u001b[0m \u001b[32m━━━━━━━━━━━━━━━━━━━━\u001b[0m\u001b[37m\u001b[0m \u001b[1m1s\u001b[0m 14ms/step - loss: 8734099.0000 - mse: 8734099.0000 - val_loss: 3559778.0000 - val_mse: 3559777.5000\n",
      "Epoch 62/100\n",
      "\u001b[1m28/38\u001b[0m \u001b[32m━━━━━━━━━━━━━━\u001b[0m\u001b[37m━━━━━━\u001b[0m \u001b[1m0s\u001b[0m 6ms/step - loss: 8242182.0000 - mse: 8242182.0000\n",
      "Epoch 62: val_loss improved from 3416847.00000 to 3411052.50000, saving model to car_model.keras\n",
      "\u001b[1m38/38\u001b[0m \u001b[32m━━━━━━━━━━━━━━━━━━━━\u001b[0m\u001b[37m\u001b[0m \u001b[1m1s\u001b[0m 16ms/step - loss: 8203923.5000 - mse: 8203923.5000 - val_loss: 3411052.5000 - val_mse: 3411052.5000\n",
      "Epoch 63/100\n",
      "\u001b[1m34/38\u001b[0m \u001b[32m━━━━━━━━━━━━━━━━━\u001b[0m\u001b[37m━━━\u001b[0m \u001b[1m0s\u001b[0m 5ms/step - loss: 8003900.0000 - mse: 8003900.0000\n",
      "Epoch 63: val_loss did not improve from 3411052.50000\n",
      "\u001b[1m38/38\u001b[0m \u001b[32m━━━━━━━━━━━━━━━━━━━━\u001b[0m\u001b[37m\u001b[0m \u001b[1m1s\u001b[0m 13ms/step - loss: 8122617.0000 - mse: 8122617.0000 - val_loss: 3464663.5000 - val_mse: 3464663.5000\n",
      "Epoch 64/100\n",
      "\u001b[1m33/38\u001b[0m \u001b[32m━━━━━━━━━━━━━━━━━\u001b[0m\u001b[37m━━━\u001b[0m \u001b[1m0s\u001b[0m 5ms/step - loss: 7557385.5000 - mse: 7557385.5000\n",
      "Epoch 64: val_loss did not improve from 3411052.50000\n",
      "\u001b[1m38/38\u001b[0m \u001b[32m━━━━━━━━━━━━━━━━━━━━\u001b[0m\u001b[37m\u001b[0m \u001b[1m1s\u001b[0m 12ms/step - loss: 7596538.0000 - mse: 7596538.0000 - val_loss: 3608134.2500 - val_mse: 3608134.2500\n",
      "Epoch 65/100\n",
      "\u001b[1m34/38\u001b[0m \u001b[32m━━━━━━━━━━━━━━━━━\u001b[0m\u001b[37m━━━\u001b[0m \u001b[1m0s\u001b[0m 3ms/step - loss: 7842389.5000 - mse: 7842389.5000 \n",
      "Epoch 65: val_loss did not improve from 3411052.50000\n",
      "\u001b[1m38/38\u001b[0m \u001b[32m━━━━━━━━━━━━━━━━━━━━\u001b[0m\u001b[37m\u001b[0m \u001b[1m0s\u001b[0m 7ms/step - loss: 7797035.5000 - mse: 7797035.5000 - val_loss: 3521505.5000 - val_mse: 3521505.5000\n",
      "Epoch 66/100\n",
      "\u001b[1m36/38\u001b[0m \u001b[32m━━━━━━━━━━━━━━━━━━\u001b[0m\u001b[37m━━\u001b[0m \u001b[1m0s\u001b[0m 3ms/step - loss: 7887571.5000 - mse: 7887571.5000\n",
      "Epoch 66: val_loss did not improve from 3411052.50000\n",
      "\u001b[1m38/38\u001b[0m \u001b[32m━━━━━━━━━━━━━━━━━━━━\u001b[0m\u001b[37m\u001b[0m \u001b[1m0s\u001b[0m 8ms/step - loss: 7879098.5000 - mse: 7879098.5000 - val_loss: 3619425.5000 - val_mse: 3619425.5000\n",
      "Epoch 67/100\n",
      "\u001b[1m37/38\u001b[0m \u001b[32m━━━━━━━━━━━━━━━━━━━\u001b[0m\u001b[37m━\u001b[0m \u001b[1m0s\u001b[0m 3ms/step - loss: 8767870.0000 - mse: 8767870.0000\n",
      "Epoch 67: val_loss did not improve from 3411052.50000\n",
      "\u001b[1m38/38\u001b[0m \u001b[32m━━━━━━━━━━━━━━━━━━━━\u001b[0m\u001b[37m\u001b[0m \u001b[1m0s\u001b[0m 7ms/step - loss: 8756300.0000 - mse: 8756300.0000 - val_loss: 3608633.0000 - val_mse: 3608633.0000\n",
      "Epoch 68/100\n",
      "\u001b[1m21/38\u001b[0m \u001b[32m━━━━━━━━━━━\u001b[0m\u001b[37m━━━━━━━━━\u001b[0m \u001b[1m0s\u001b[0m 3ms/step - loss: 8379032.5000 - mse: 8379032.5000   \n",
      "Epoch 68: val_loss improved from 3411052.50000 to 3185431.50000, saving model to car_model.keras\n",
      "\u001b[1m38/38\u001b[0m \u001b[32m━━━━━━━━━━━━━━━━━━━━\u001b[0m\u001b[37m\u001b[0m \u001b[1m0s\u001b[0m 9ms/step - loss: 8121513.0000 - mse: 8121513.0000 - val_loss: 3185431.5000 - val_mse: 3185431.5000\n",
      "Epoch 69/100\n",
      "\u001b[1m20/38\u001b[0m \u001b[32m━━━━━━━━━━\u001b[0m\u001b[37m━━━━━━━━━━\u001b[0m \u001b[1m0s\u001b[0m 3ms/step - loss: 5845379.5000 - mse: 5845379.5000 \n",
      "Epoch 69: val_loss did not improve from 3185431.50000\n",
      "\u001b[1m38/38\u001b[0m \u001b[32m━━━━━━━━━━━━━━━━━━━━\u001b[0m\u001b[37m\u001b[0m \u001b[1m0s\u001b[0m 7ms/step - loss: 6141244.5000 - mse: 6141244.5000 - val_loss: 3295279.2500 - val_mse: 3295279.5000\n",
      "Epoch 70/100\n",
      "\u001b[1m32/38\u001b[0m \u001b[32m━━━━━━━━━━━━━━━━\u001b[0m\u001b[37m━━━━\u001b[0m \u001b[1m0s\u001b[0m 4ms/step - loss: 8261620.5000 - mse: 8261620.5000\n",
      "Epoch 70: val_loss did not improve from 3185431.50000\n",
      "\u001b[1m38/38\u001b[0m \u001b[32m━━━━━━━━━━━━━━━━━━━━\u001b[0m\u001b[37m\u001b[0m \u001b[1m0s\u001b[0m 11ms/step - loss: 8184827.0000 - mse: 8184827.0000 - val_loss: 3287989.0000 - val_mse: 3287989.0000\n",
      "Epoch 71/100\n",
      "\u001b[1m19/38\u001b[0m \u001b[32m━━━━━━━━━━\u001b[0m\u001b[37m━━━━━━━━━━\u001b[0m \u001b[1m0s\u001b[0m 3ms/step - loss: 6455542.0000 - mse: 6455542.0000  \n",
      "Epoch 71: val_loss improved from 3185431.50000 to 3054858.75000, saving model to car_model.keras\n",
      "\u001b[1m38/38\u001b[0m \u001b[32m━━━━━━━━━━━━━━━━━━━━\u001b[0m\u001b[37m\u001b[0m \u001b[1m1s\u001b[0m 9ms/step - loss: 6659077.5000 - mse: 6659077.5000 - val_loss: 3054858.7500 - val_mse: 3054858.7500\n",
      "Epoch 72/100\n",
      "\u001b[1m28/38\u001b[0m \u001b[32m━━━━━━━━━━━━━━\u001b[0m\u001b[37m━━━━━━\u001b[0m \u001b[1m0s\u001b[0m 4ms/step - loss: 7269320.0000 - mse: 7269320.0000  \n",
      "Epoch 72: val_loss did not improve from 3054858.75000\n",
      "\u001b[1m38/38\u001b[0m \u001b[32m━━━━━━━━━━━━━━━━━━━━\u001b[0m\u001b[37m\u001b[0m \u001b[1m0s\u001b[0m 9ms/step - loss: 7207490.0000 - mse: 7207490.0000 - val_loss: 3233325.7500 - val_mse: 3233325.7500\n",
      "Epoch 73/100\n",
      "\u001b[1m29/38\u001b[0m \u001b[32m━━━━━━━━━━━━━━━\u001b[0m\u001b[37m━━━━━\u001b[0m \u001b[1m0s\u001b[0m 4ms/step - loss: 6281796.0000 - mse: 6281796.0000\n",
      "Epoch 73: val_loss did not improve from 3054858.75000\n",
      "\u001b[1m38/38\u001b[0m \u001b[32m━━━━━━━━━━━━━━━━━━━━\u001b[0m\u001b[37m\u001b[0m \u001b[1m0s\u001b[0m 8ms/step - loss: 6405900.5000 - mse: 6405900.5000 - val_loss: 3060728.0000 - val_mse: 3060728.0000\n",
      "Epoch 74/100\n",
      "\u001b[1m37/38\u001b[0m \u001b[32m━━━━━━━━━━━━━━━━━━━\u001b[0m\u001b[37m━\u001b[0m \u001b[1m0s\u001b[0m 3ms/step - loss: 7166208.5000 - mse: 7166208.5000\n",
      "Epoch 74: val_loss improved from 3054858.75000 to 2798408.00000, saving model to car_model.keras\n",
      "\u001b[1m38/38\u001b[0m \u001b[32m━━━━━━━━━━━━━━━━━━━━\u001b[0m\u001b[37m\u001b[0m \u001b[1m0s\u001b[0m 9ms/step - loss: 7195314.5000 - mse: 7195314.5000 - val_loss: 2798408.0000 - val_mse: 2798408.0000\n",
      "Epoch 75/100\n",
      "\u001b[1m37/38\u001b[0m \u001b[32m━━━━━━━━━━━━━━━━━━━\u001b[0m\u001b[37m━\u001b[0m \u001b[1m0s\u001b[0m 3ms/step - loss: 7327823.0000 - mse: 7327823.0000  \n",
      "Epoch 75: val_loss did not improve from 2798408.00000\n",
      "\u001b[1m38/38\u001b[0m \u001b[32m━━━━━━━━━━━━━━━━━━━━\u001b[0m\u001b[37m\u001b[0m \u001b[1m0s\u001b[0m 7ms/step - loss: 7317667.5000 - mse: 7317667.5000 - val_loss: 3186453.5000 - val_mse: 3186453.5000\n",
      "Epoch 76/100\n",
      "\u001b[1m19/38\u001b[0m \u001b[32m━━━━━━━━━━\u001b[0m\u001b[37m━━━━━━━━━━\u001b[0m \u001b[1m0s\u001b[0m 3ms/step - loss: 6633199.5000 - mse: 6633199.5000 \n",
      "Epoch 76: val_loss did not improve from 2798408.00000\n",
      "\u001b[1m38/38\u001b[0m \u001b[32m━━━━━━━━━━━━━━━━━━━━\u001b[0m\u001b[37m\u001b[0m \u001b[1m0s\u001b[0m 7ms/step - loss: 6850746.5000 - mse: 6850746.5000 - val_loss: 3139842.7500 - val_mse: 3139842.7500\n",
      "Epoch 77/100\n",
      "\u001b[1m21/38\u001b[0m \u001b[32m━━━━━━━━━━━\u001b[0m\u001b[37m━━━━━━━━━\u001b[0m \u001b[1m0s\u001b[0m 3ms/step - loss: 8620350.0000 - mse: 8620350.0000 \n",
      "Epoch 77: val_loss did not improve from 2798408.00000\n",
      "\u001b[1m38/38\u001b[0m \u001b[32m━━━━━━━━━━━━━━━━━━━━\u001b[0m\u001b[37m\u001b[0m \u001b[1m0s\u001b[0m 7ms/step - loss: 8113526.0000 - mse: 8113526.0000 - val_loss: 2885994.7500 - val_mse: 2885994.7500\n",
      "Epoch 78/100\n",
      "\u001b[1m33/38\u001b[0m \u001b[32m━━━━━━━━━━━━━━━━━\u001b[0m\u001b[37m━━━\u001b[0m \u001b[1m0s\u001b[0m 5ms/step - loss: 6807531.0000 - mse: 6807531.0000\n",
      "Epoch 78: val_loss improved from 2798408.00000 to 2750325.50000, saving model to car_model.keras\n",
      "\u001b[1m38/38\u001b[0m \u001b[32m━━━━━━━━━━━━━━━━━━━━\u001b[0m\u001b[37m\u001b[0m \u001b[1m1s\u001b[0m 15ms/step - loss: 6824995.0000 - mse: 6824995.0000 - val_loss: 2750325.5000 - val_mse: 2750325.5000\n",
      "Epoch 79/100\n",
      "\u001b[1m33/38\u001b[0m \u001b[32m━━━━━━━━━━━━━━━━━\u001b[0m\u001b[37m━━━\u001b[0m \u001b[1m0s\u001b[0m 5ms/step - loss: 7712944.5000 - mse: 7712944.5000\n",
      "Epoch 79: val_loss did not improve from 2750325.50000\n",
      "\u001b[1m38/38\u001b[0m \u001b[32m━━━━━━━━━━━━━━━━━━━━\u001b[0m\u001b[37m\u001b[0m \u001b[1m1s\u001b[0m 12ms/step - loss: 7709369.5000 - mse: 7709369.5000 - val_loss: 2862308.5000 - val_mse: 2862308.5000\n",
      "Epoch 80/100\n",
      "\u001b[1m27/38\u001b[0m \u001b[32m━━━━━━━━━━━━━━\u001b[0m\u001b[37m━━━━━━\u001b[0m \u001b[1m0s\u001b[0m 4ms/step - loss: 6582912.0000 - mse: 6582912.0000 \n",
      "Epoch 80: val_loss improved from 2750325.50000 to 2641552.50000, saving model to car_model.keras\n",
      "\u001b[1m38/38\u001b[0m \u001b[32m━━━━━━━━━━━━━━━━━━━━\u001b[0m\u001b[37m\u001b[0m \u001b[1m1s\u001b[0m 10ms/step - loss: 6547507.0000 - mse: 6547507.0000 - val_loss: 2641552.5000 - val_mse: 2641552.5000\n",
      "Epoch 81/100\n",
      "\u001b[1m29/38\u001b[0m \u001b[32m━━━━━━━━━━━━━━━\u001b[0m\u001b[37m━━━━━\u001b[0m \u001b[1m0s\u001b[0m 4ms/step - loss: 6943425.0000 - mse: 6943425.0000\n",
      "Epoch 81: val_loss did not improve from 2641552.50000\n",
      "\u001b[1m38/38\u001b[0m \u001b[32m━━━━━━━━━━━━━━━━━━━━\u001b[0m\u001b[37m\u001b[0m \u001b[1m0s\u001b[0m 12ms/step - loss: 6978576.5000 - mse: 6978576.5000 - val_loss: 2826951.2500 - val_mse: 2826951.2500\n",
      "Epoch 82/100\n",
      "\u001b[1m38/38\u001b[0m \u001b[32m━━━━━━━━━━━━━━━━━━━━\u001b[0m\u001b[37m\u001b[0m \u001b[1m0s\u001b[0m 3ms/step - loss: 6613929.5000 - mse: 6613929.5000 \n",
      "Epoch 82: val_loss improved from 2641552.50000 to 2634989.75000, saving model to car_model.keras\n",
      "\u001b[1m38/38\u001b[0m \u001b[32m━━━━━━━━━━━━━━━━━━━━\u001b[0m\u001b[37m\u001b[0m \u001b[1m1s\u001b[0m 9ms/step - loss: 6627677.5000 - mse: 6627678.0000 - val_loss: 2634989.7500 - val_mse: 2634989.7500\n",
      "Epoch 83/100\n",
      "\u001b[1m36/38\u001b[0m \u001b[32m━━━━━━━━━━━━━━━━━━\u001b[0m\u001b[37m━━\u001b[0m \u001b[1m0s\u001b[0m 4ms/step - loss: 7164032.0000 - mse: 7164032.0000\n",
      "Epoch 83: val_loss improved from 2634989.75000 to 2605710.50000, saving model to car_model.keras\n",
      "\u001b[1m38/38\u001b[0m \u001b[32m━━━━━━━━━━━━━━━━━━━━\u001b[0m\u001b[37m\u001b[0m \u001b[1m1s\u001b[0m 15ms/step - loss: 7166172.0000 - mse: 7166172.0000 - val_loss: 2605710.5000 - val_mse: 2605710.5000\n",
      "Epoch 84/100\n",
      "\u001b[1m31/38\u001b[0m \u001b[32m━━━━━━━━━━━━━━━━\u001b[0m\u001b[37m━━━━\u001b[0m \u001b[1m0s\u001b[0m 6ms/step - loss: 7642048.5000 - mse: 7642048.5000 \n",
      "Epoch 84: val_loss did not improve from 2605710.50000\n",
      "\u001b[1m38/38\u001b[0m \u001b[32m━━━━━━━━━━━━━━━━━━━━\u001b[0m\u001b[37m\u001b[0m \u001b[1m1s\u001b[0m 13ms/step - loss: 7395771.0000 - mse: 7395771.0000 - val_loss: 2614360.5000 - val_mse: 2614361.0000\n",
      "Epoch 85/100\n",
      "\u001b[1m18/38\u001b[0m \u001b[32m━━━━━━━━━\u001b[0m\u001b[37m━━━━━━━━━━━\u001b[0m \u001b[1m0s\u001b[0m 3ms/step - loss: 7526135.5000 - mse: 7526135.5000   \n",
      "Epoch 85: val_loss did not improve from 2605710.50000\n",
      "\u001b[1m38/38\u001b[0m \u001b[32m━━━━━━━━━━━━━━━━━━━━\u001b[0m\u001b[37m\u001b[0m \u001b[1m0s\u001b[0m 7ms/step - loss: 6990824.5000 - mse: 6990824.5000 - val_loss: 2720754.2500 - val_mse: 2720754.2500\n",
      "Epoch 86/100\n",
      "\u001b[1m37/38\u001b[0m \u001b[32m━━━━━━━━━━━━━━━━━━━\u001b[0m\u001b[37m━\u001b[0m \u001b[1m0s\u001b[0m 3ms/step - loss: 6534863.5000 - mse: 6534863.5000\n",
      "Epoch 86: val_loss improved from 2605710.50000 to 2484172.25000, saving model to car_model.keras\n",
      "\u001b[1m38/38\u001b[0m \u001b[32m━━━━━━━━━━━━━━━━━━━━\u001b[0m\u001b[37m\u001b[0m \u001b[1m0s\u001b[0m 11ms/step - loss: 6553551.5000 - mse: 6553551.5000 - val_loss: 2484172.2500 - val_mse: 2484172.2500\n",
      "Epoch 87/100\n",
      "\u001b[1m31/38\u001b[0m \u001b[32m━━━━━━━━━━━━━━━━\u001b[0m\u001b[37m━━━━\u001b[0m \u001b[1m0s\u001b[0m 5ms/step - loss: 5891715.5000 - mse: 5891715.5000\n",
      "Epoch 87: val_loss improved from 2484172.25000 to 2401458.00000, saving model to car_model.keras\n",
      "\u001b[1m38/38\u001b[0m \u001b[32m━━━━━━━━━━━━━━━━━━━━\u001b[0m\u001b[37m\u001b[0m \u001b[1m1s\u001b[0m 14ms/step - loss: 6018988.5000 - mse: 6018988.5000 - val_loss: 2401458.0000 - val_mse: 2401457.5000\n",
      "Epoch 88/100\n",
      "\u001b[1m38/38\u001b[0m \u001b[32m━━━━━━━━━━━━━━━━━━━━\u001b[0m\u001b[37m\u001b[0m \u001b[1m0s\u001b[0m 3ms/step - loss: 6563469.0000 - mse: 6563469.0000\n",
      "Epoch 88: val_loss improved from 2401458.00000 to 2322179.50000, saving model to car_model.keras\n",
      "\u001b[1m38/38\u001b[0m \u001b[32m━━━━━━━━━━━━━━━━━━━━\u001b[0m\u001b[37m\u001b[0m \u001b[1m0s\u001b[0m 9ms/step - loss: 6556073.0000 - mse: 6556073.0000 - val_loss: 2322179.5000 - val_mse: 2322179.5000\n",
      "Epoch 89/100\n",
      "\u001b[1m31/38\u001b[0m \u001b[32m━━━━━━━━━━━━━━━━\u001b[0m\u001b[37m━━━━\u001b[0m \u001b[1m0s\u001b[0m 6ms/step - loss: 6245464.5000 - mse: 6245464.5000\n",
      "Epoch 89: val_loss did not improve from 2322179.50000\n",
      "\u001b[1m38/38\u001b[0m \u001b[32m━━━━━━━━━━━━━━━━━━━━\u001b[0m\u001b[37m\u001b[0m \u001b[1m1s\u001b[0m 13ms/step - loss: 6325410.0000 - mse: 6325410.0000 - val_loss: 2362082.0000 - val_mse: 2362082.0000\n",
      "Epoch 90/100\n",
      "\u001b[1m22/38\u001b[0m \u001b[32m━━━━━━━━━━━\u001b[0m\u001b[37m━━━━━━━━━\u001b[0m \u001b[1m0s\u001b[0m 3ms/step - loss: 6911619.5000 - mse: 6911619.5000  \n",
      "Epoch 90: val_loss did not improve from 2322179.50000\n",
      "\u001b[1m38/38\u001b[0m \u001b[32m━━━━━━━━━━━━━━━━━━━━\u001b[0m\u001b[37m\u001b[0m \u001b[1m0s\u001b[0m 7ms/step - loss: 6807809.5000 - mse: 6807809.5000 - val_loss: 2341138.7500 - val_mse: 2341138.7500\n",
      "Epoch 91/100\n",
      "\u001b[1m22/38\u001b[0m \u001b[32m━━━━━━━━━━━\u001b[0m\u001b[37m━━━━━━━━━\u001b[0m \u001b[1m0s\u001b[0m 3ms/step - loss: 5688039.0000 - mse: 5688039.0000 \n",
      "Epoch 91: val_loss did not improve from 2322179.50000\n",
      "\u001b[1m38/38\u001b[0m \u001b[32m━━━━━━━━━━━━━━━━━━━━\u001b[0m\u001b[37m\u001b[0m \u001b[1m0s\u001b[0m 7ms/step - loss: 5822637.5000 - mse: 5822637.5000 - val_loss: 2388546.2500 - val_mse: 2388546.2500\n",
      "Epoch 92/100\n",
      "\u001b[1m27/38\u001b[0m \u001b[32m━━━━━━━━━━━━━━\u001b[0m\u001b[37m━━━━━━\u001b[0m \u001b[1m0s\u001b[0m 4ms/step - loss: 6340195.5000 - mse: 6340195.5000\n",
      "Epoch 92: val_loss did not improve from 2322179.50000\n",
      "\u001b[1m38/38\u001b[0m \u001b[32m━━━━━━━━━━━━━━━━━━━━\u001b[0m\u001b[37m\u001b[0m \u001b[1m1s\u001b[0m 12ms/step - loss: 6428396.0000 - mse: 6428396.0000 - val_loss: 2372642.2500 - val_mse: 2372642.2500\n",
      "Epoch 93/100\n",
      "\u001b[1m35/38\u001b[0m \u001b[32m━━━━━━━━━━━━━━━━━━\u001b[0m\u001b[37m━━\u001b[0m \u001b[1m0s\u001b[0m 5ms/step - loss: 5624349.0000 - mse: 5624349.0000\n",
      "Epoch 93: val_loss did not improve from 2322179.50000\n",
      "\u001b[1m38/38\u001b[0m \u001b[32m━━━━━━━━━━━━━━━━━━━━\u001b[0m\u001b[37m\u001b[0m \u001b[1m1s\u001b[0m 13ms/step - loss: 5640126.0000 - mse: 5640126.0000 - val_loss: 2409949.0000 - val_mse: 2409949.0000\n",
      "Epoch 94/100\n",
      "\u001b[1m37/38\u001b[0m \u001b[32m━━━━━━━━━━━━━━━━━━━\u001b[0m\u001b[37m━\u001b[0m \u001b[1m0s\u001b[0m 3ms/step - loss: 6228789.0000 - mse: 6228789.0000 \n",
      "Epoch 94: val_loss did not improve from 2322179.50000\n",
      "\u001b[1m38/38\u001b[0m \u001b[32m━━━━━━━━━━━━━━━━━━━━\u001b[0m\u001b[37m\u001b[0m \u001b[1m0s\u001b[0m 7ms/step - loss: 6210426.0000 - mse: 6210426.0000 - val_loss: 2456933.5000 - val_mse: 2456933.5000\n",
      "Epoch 95/100\n",
      "\u001b[1m33/38\u001b[0m \u001b[32m━━━━━━━━━━━━━━━━━\u001b[0m\u001b[37m━━━\u001b[0m \u001b[1m0s\u001b[0m 3ms/step - loss: 5745224.5000 - mse: 5745224.5000\n",
      "Epoch 95: val_loss did not improve from 2322179.50000\n",
      "\u001b[1m38/38\u001b[0m \u001b[32m━━━━━━━━━━━━━━━━━━━━\u001b[0m\u001b[37m\u001b[0m \u001b[1m0s\u001b[0m 7ms/step - loss: 5765350.0000 - mse: 5765350.0000 - val_loss: 2390282.0000 - val_mse: 2390282.0000\n",
      "Epoch 95: early stopping\n",
      "Restoring model weights from the end of the best epoch: 88.\n"
     ]
    }
   ],
   "source": [
    "history = model.fit(X_train, y_train, batch_size=20, epochs=100, validation_split=0.3, callbacks=[early_stop, checkpoint], verbose=1)"
   ]
  },
  {
   "cell_type": "code",
   "execution_count": null,
   "metadata": {},
   "outputs": [],
   "source": []
  }
 ],
 "metadata": {
  "colab": {
   "provenance": []
  },
  "kernelspec": {
   "display_name": "Python [conda env:base] *",
   "language": "python",
   "name": "conda-base-py"
  },
  "language_info": {
   "codemirror_mode": {
    "name": "ipython",
    "version": 3
   },
   "file_extension": ".py",
   "mimetype": "text/x-python",
   "name": "python",
   "nbconvert_exporter": "python",
   "pygments_lexer": "ipython3",
   "version": "3.12.7"
  }
 },
 "nbformat": 4,
 "nbformat_minor": 4
}
