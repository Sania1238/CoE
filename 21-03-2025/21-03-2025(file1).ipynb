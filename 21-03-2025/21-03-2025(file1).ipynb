{
 "cells": [
  {
   "cell_type": "code",
   "execution_count": 8,
   "id": "d4e4dbb7-c54f-4a14-938c-b34fa1d4179c",
   "metadata": {},
   "outputs": [],
   "source": [
    "import numpy as np\n",
    "import pandas as pd\n",
    "import matplotlib.pyplot as plt\n",
    "import seaborn as sns\n",
    "from sklearn.model_selection import train_test_split, GridSearchCV, RandomizedSearchCV\n",
    "from sklearn.ensemble import RandomForestClassifier\n",
    "from sklearn.metrics import accuracy_score, classification_report, confusion_matrix\n",
    "from sklearn.datasets import load_iris"
   ]
  },
  {
   "cell_type": "markdown",
   "id": "2140dda5-cf56-4019-9af5-ac7f4a4df9fb",
   "metadata": {},
   "source": [
    "# Load and Explore Dataset"
   ]
  },
  {
   "cell_type": "code",
   "execution_count": 16,
   "id": "5113410e-cf93-4597-84f6-bca7a920dc1d",
   "metadata": {},
   "outputs": [],
   "source": [
    "df=load_iris()\n",
    "X=df.data\n",
    "y=df.target"
   ]
  },
  {
   "cell_type": "markdown",
   "id": "bc25594d-d63c-4381-90ca-23273475cda0",
   "metadata": {},
   "source": [
    "# Define Hyperparameter Grid"
   ]
  },
  {
   "cell_type": "code",
   "execution_count": 22,
   "id": "dae8ed22-4fd4-45a2-8369-55fbb2b66e8e",
   "metadata": {},
   "outputs": [],
   "source": [
    "param_grid = {\n",
    "    'n_estimators': [10, 50, 100, 200],\n",
    "    'max_depth': [5, 10, 20, None],\n",
    "    'min_samples_split':[2, 5, 10],\n",
    "    'min_samples_leaf':[1, 2, 4]\n",
    "}\n",
    "#split into training and testing sets (80-20 split)\n",
    "X_train, X_test, y_train, y_test = train_test_split(X, y, test_size=0.2, random_state=42)"
   ]
  },
  {
   "cell_type": "markdown",
   "id": "6d09acf2-048e-4770-a788-b319370fef85",
   "metadata": {},
   "source": [
    "# Apply Grid Search CV"
   ]
  },
  {
   "cell_type": "code",
   "execution_count": 40,
   "id": "1a408dab-9755-48dc-8f1b-82da0b9a1b04",
   "metadata": {},
   "outputs": [
    {
     "name": "stdout",
     "output_type": "stream",
     "text": [
      "Fitting 5 folds for each of 144 candidates, totalling 720 fits\n",
      "Best Parameters from Grid Search: {'max_depth': 5, 'min_samples_leaf': 2, 'min_samples_split': 10, 'n_estimators': 10}\n"
     ]
    },
    {
     "name": "stderr",
     "output_type": "stream",
     "text": [
      "C:\\Users\\sania\\anaconda3\\Lib\\site-packages\\numpy\\ma\\core.py:2820: RuntimeWarning: invalid value encountered in cast\n",
      "  _data = np.array(data, dtype=dtype, copy=copy,\n"
     ]
    }
   ],
   "source": [
    "grid_search = GridSearchCV(RandomForestClassifier(), param_grid, cv=5, n_jobs=-1, verbose=1)\n",
    "grid_search.fit(X_train, y_train)\n",
    "\n",
    "#Get best parameters\n",
    "print('Best Parameters from Grid Search:', grid_search.best_params_)"
   ]
  },
  {
   "cell_type": "markdown",
   "id": "5f2ae839-ac81-436a-a1b6-bde93b103c27",
   "metadata": {},
   "source": [
    "# Apply Randomized Search CV"
   ]
  },
  {
   "cell_type": "code",
   "execution_count": 38,
   "id": "87b47a0f-24ef-453e-bc6b-ac59cf93c74f",
   "metadata": {},
   "outputs": [
    {
     "name": "stdout",
     "output_type": "stream",
     "text": [
      "Fitting 5 folds for each of 10 candidates, totalling 50 fits\n",
      "Best Parameters from Random Search: {'n_estimators': 10, 'min_samples_split': 2, 'min_samples_leaf': 4, 'max_depth': None}\n"
     ]
    }
   ],
   "source": [
    "random_search = RandomizedSearchCV(RandomForestClassifier(), param_grid, n_iter=10, cv=5, n_jobs=-1, verbose=1, random_state=42)\n",
    "random_search.fit(X_train, y_train)\n",
    "print('Best Parameters from Random Search:', random_search.best_params_)"
   ]
  },
  {
   "cell_type": "markdown",
   "id": "6f86ab0a-2679-42e9-96d5-f9559b642db9",
   "metadata": {},
   "source": [
    "# Evaluate Model Performance"
   ]
  },
  {
   "cell_type": "code",
   "execution_count": 43,
   "id": "9cda7039-2738-4b3f-8034-d3f75e337997",
   "metadata": {},
   "outputs": [
    {
     "name": "stdout",
     "output_type": "stream",
     "text": [
      "Grid Search Accuracy: 1.00\n",
      "Random Search Accuracy: 1.00\n"
     ]
    }
   ],
   "source": [
    "best_grid_model = grid_search.best_estimator_\n",
    "best_random_model = random_search.best_estimator_\n",
    "\n",
    "#Predictions\n",
    "y_pred_grid = best_grid_model.predict(X_test)\n",
    "y_pred_random = best_random_model.predict(X_test)\n",
    "\n",
    "acc_grid = accuracy_score(y_test, y_pred_grid)\n",
    "acc_random = accuracy_score(y_test, y_pred_random)\n",
    "\n",
    "print(f'Grid Search Accuracy: {acc_grid:.2f}')\n",
    "print(f'Random Search Accuracy: {acc_random:.2f}')"
   ]
  },
  {
   "cell_type": "code",
   "execution_count": null,
   "id": "37aa2180-4ee2-4660-9fc6-cfba316b8565",
   "metadata": {},
   "outputs": [],
   "source": []
  }
 ],
 "metadata": {
  "kernelspec": {
   "display_name": "Python [conda env:base] *",
   "language": "python",
   "name": "conda-base-py"
  },
  "language_info": {
   "codemirror_mode": {
    "name": "ipython",
    "version": 3
   },
   "file_extension": ".py",
   "mimetype": "text/x-python",
   "name": "python",
   "nbconvert_exporter": "python",
   "pygments_lexer": "ipython3",
   "version": "3.12.7"
  }
 },
 "nbformat": 4,
 "nbformat_minor": 5
}
