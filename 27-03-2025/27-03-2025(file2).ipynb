{
 "cells": [
  {
   "cell_type": "code",
   "execution_count": 2,
   "id": "725c9bd6-3a74-4d7d-8238-1d36cb037487",
   "metadata": {},
   "outputs": [],
   "source": [
    "from sklearn.datasets import load_breast_cancer\n",
    "from sklearn.model_selection import train_test_split\n",
    "from sklearn.preprocessing import StandardScaler"
   ]
  },
  {
   "cell_type": "code",
   "execution_count": 4,
   "id": "a94ca995-4758-4be2-92bd-deb8b6b6ce26",
   "metadata": {},
   "outputs": [],
   "source": [
    "data = load_breast_cancer()\n",
    "X, y= data.data, data.target\n",
    "\n",
    "X_train, X_test, y_train, y_test = train_test_split(X, y, test_size=0.2, random_state=42)\n",
    "scaler = StandardScaler()\n",
    "X_train_scaled= scaler.fit_transform(X_train)\n",
    "X_test_scaled=scaler.transform(X_test)"
   ]
  },
  {
   "cell_type": "code",
   "execution_count": 19,
   "id": "3d21e4a9-2dcb-4ac1-afa8-52fd40539444",
   "metadata": {},
   "outputs": [],
   "source": [
    "from sklearn.ensemble import BaggingClassifier, AdaBoostClassifier, GradientBoostingClassifier, RandomForestClassifier\n",
    "from xgboost import XGBClassifier\n",
    "from sklearn.metrics import accuracy_score"
   ]
  },
  {
   "cell_type": "code",
   "execution_count": 23,
   "id": "75493fc5-0910-42eb-9e4a-a0b537b49473",
   "metadata": {},
   "outputs": [],
   "source": [
    "bagging=BaggingClassifier(RandomForestClassifier(), n_estimators=50,random_state=42)\n",
    "bagging.fit(X_train_scaled, y_train)\n",
    "bagging_acc = accuracy_score(y_test, bagging.predict(X_test_scaled))"
   ]
  },
  {
   "cell_type": "code",
   "execution_count": 27,
   "id": "4c4cd147-5f48-487d-97fe-7c0de44be45e",
   "metadata": {},
   "outputs": [
    {
     "name": "stderr",
     "output_type": "stream",
     "text": [
      "C:\\Users\\sania\\anaconda3\\Lib\\site-packages\\sklearn\\ensemble\\_weight_boosting.py:527: FutureWarning: The SAMME.R algorithm (the default) is deprecated and will be removed in 1.6. Use the SAMME algorithm to circumvent this warning.\n",
      "  warnings.warn(\n"
     ]
    }
   ],
   "source": [
    "ada = AdaBoostClassifier(n_estimators=50, random_state=42)\n",
    "ada.fit(X_train_scaled,y_train)\n",
    "ada_acc= accuracy_score(y_test, ada.predict(X_test_scaled))"
   ]
  },
  {
   "cell_type": "code",
   "execution_count": 45,
   "id": "27d9292c-057c-4a41-82b6-14c1e2ecc7a7",
   "metadata": {},
   "outputs": [],
   "source": [
    "gb=GradientBoostingClassifier(n_estimators=100, learning_rate=0, random_state=42)\n",
    "gb.fit(X_train_scaled,y_train)\n",
    "gb_acc=accuracy_score(y_test,gb.predict(X_test_scaled))"
   ]
  },
  {
   "cell_type": "code",
   "execution_count": 41,
   "id": "c66901ce-f638-4ece-8d50-bea012e4b3d0",
   "metadata": {},
   "outputs": [],
   "source": [
    "import warnings\n",
    "warnings.filterwarnings('ignore', category=UserWarning)\n",
    "\n",
    "xgb=XGBClassifier(use_label_encoder=False, eval_metric='logloss',random_state=42)\n",
    "xgb.fit(X_train_scaled, y_train)\n",
    "xgb_acc = accuracy_score(y_test,xgb.predict(X_test_scaled))"
   ]
  },
  {
   "cell_type": "code",
   "execution_count": 47,
   "id": "71b9b7f6-2182-4b6b-8035-3a1350f125aa",
   "metadata": {},
   "outputs": [
    {
     "data": {
      "text/html": [
       "<div>\n",
       "<style scoped>\n",
       "    .dataframe tbody tr th:only-of-type {\n",
       "        vertical-align: middle;\n",
       "    }\n",
       "\n",
       "    .dataframe tbody tr th {\n",
       "        vertical-align: top;\n",
       "    }\n",
       "\n",
       "    .dataframe thead th {\n",
       "        text-align: right;\n",
       "    }\n",
       "</style>\n",
       "<table border=\"1\" class=\"dataframe\">\n",
       "  <thead>\n",
       "    <tr style=\"text-align: right;\">\n",
       "      <th></th>\n",
       "      <th>Model</th>\n",
       "      <th>Accuracy</th>\n",
       "    </tr>\n",
       "  </thead>\n",
       "  <tbody>\n",
       "    <tr>\n",
       "      <th>0</th>\n",
       "      <td>Bagging</td>\n",
       "      <td>0.964912</td>\n",
       "    </tr>\n",
       "    <tr>\n",
       "      <th>1</th>\n",
       "      <td>AdaBoost</td>\n",
       "      <td>0.973684</td>\n",
       "    </tr>\n",
       "    <tr>\n",
       "      <th>2</th>\n",
       "      <td>Gradient Boosting</td>\n",
       "      <td>0.622807</td>\n",
       "    </tr>\n",
       "    <tr>\n",
       "      <th>3</th>\n",
       "      <td>XGBoosting</td>\n",
       "      <td>0.956140</td>\n",
       "    </tr>\n",
       "  </tbody>\n",
       "</table>\n",
       "</div>"
      ],
      "text/plain": [
       "               Model  Accuracy\n",
       "0            Bagging  0.964912\n",
       "1           AdaBoost  0.973684\n",
       "2  Gradient Boosting  0.622807\n",
       "3         XGBoosting  0.956140"
      ]
     },
     "execution_count": 47,
     "metadata": {},
     "output_type": "execute_result"
    }
   ],
   "source": [
    "import pandas as pd\n",
    "results_df=pd.DataFrame({\n",
    "    \"Model\":[\"Bagging\",\"AdaBoost\",\"Gradient Boosting\",\"XGBoosting\"],\n",
    "    \"Accuracy\":[bagging_acc, ada_acc, gb_acc, xgb_acc]\n",
    "})\n",
    "results_df"
   ]
  },
  {
   "cell_type": "code",
   "execution_count": null,
   "id": "cd5ef1f1-07e8-4f7e-9bf9-601298350073",
   "metadata": {},
   "outputs": [],
   "source": []
  }
 ],
 "metadata": {
  "kernelspec": {
   "display_name": "Python [conda env:base] *",
   "language": "python",
   "name": "conda-base-py"
  },
  "language_info": {
   "codemirror_mode": {
    "name": "ipython",
    "version": 3
   },
   "file_extension": ".py",
   "mimetype": "text/x-python",
   "name": "python",
   "nbconvert_exporter": "python",
   "pygments_lexer": "ipython3",
   "version": "3.12.7"
  }
 },
 "nbformat": 4,
 "nbformat_minor": 5
}
