{
 "cells": [
  {
   "cell_type": "code",
   "execution_count": 2,
   "id": "2e2cb735-ee36-44de-ac6f-63da07ee5e11",
   "metadata": {},
   "outputs": [],
   "source": [
    "import spacy\n",
    "from nltk.stem import PorterStemmer, WordNetLemmatizer\n",
    "from nltk.tokenize import sent_tokenize, word_tokenize"
   ]
  },
  {
   "cell_type": "code",
   "execution_count": 4,
   "id": "527975b8-8304-40fb-9756-fe27db58daa4",
   "metadata": {},
   "outputs": [],
   "source": [
    "nlp = spacy.load(\"en_core_web_sm\")"
   ]
  },
  {
   "cell_type": "code",
   "execution_count": 12,
   "id": "76079bc9-4ac1-4f41-8aa8-41d692b52aba",
   "metadata": {},
   "outputs": [
    {
     "name": "stderr",
     "output_type": "stream",
     "text": [
      "[nltk_data] Downloading package punkt_tab to\n",
      "[nltk_data]     C:\\Users\\sania\\AppData\\Roaming\\nltk_data...\n",
      "[nltk_data]   Unzipping tokenizers\\punkt_tab.zip.\n",
      "[nltk_data] Downloading package wordnet to\n",
      "[nltk_data]     C:\\Users\\sania\\AppData\\Roaming\\nltk_data...\n",
      "[nltk_data]   Package wordnet is already up-to-date!\n"
     ]
    },
    {
     "data": {
      "text/plain": [
       "True"
      ]
     },
     "execution_count": 12,
     "metadata": {},
     "output_type": "execute_result"
    }
   ],
   "source": [
    "import nltk\n",
    "nltk.download('punkt_tab')\n",
    "nltk.download('wordnet')"
   ]
  },
  {
   "cell_type": "code",
   "execution_count": 20,
   "id": "5a43ad3a-12d0-46a5-84ac-51aa0c74e9a5",
   "metadata": {},
   "outputs": [],
   "source": [
    "import nltk\n",
    "from nltk.tokenize import word_tokenize\n",
    "from nltk.stem import PorterStemmer"
   ]
  },
  {
   "cell_type": "code",
   "execution_count": 22,
   "id": "63677129-ce97-4d16-8860-4ca9b6e45a6b",
   "metadata": {},
   "outputs": [],
   "source": [
    "text = \"John works at Google in California. He loves programming and playing football.\""
   ]
  },
  {
   "cell_type": "code",
   "execution_count": 24,
   "id": "7f966073-e773-471a-8a6c-175cd1f20e74",
   "metadata": {},
   "outputs": [
    {
     "name": "stdout",
     "output_type": "stream",
     "text": [
      "Segmentation: ['John works at Google in California.', 'He loves programming and playing football.']\n"
     ]
    }
   ],
   "source": [
    "sentences = sent_tokenize(text)\n",
    "print(\"Segmentation:\", sentences)"
   ]
  },
  {
   "cell_type": "code",
   "execution_count": 28,
   "id": "016cc485-787c-4ef7-b705-2992ddff2552",
   "metadata": {},
   "outputs": [
    {
     "name": "stdout",
     "output_type": "stream",
     "text": [
      "Stemming: [['j', 'o', 'h', 'n'], ['w', 'o', 'r', 'k', 's'], ['a', 't'], ['g', 'o', 'o', 'g', 'l', 'e'], ['i', 'n'], ['c', 'a', 'l', 'i', 'f', 'o', 'r', 'n', 'i', 'a'], ['.'], ['h', 'e'], ['l', 'o', 'v', 'e', 's'], ['p', 'r', 'o', 'g', 'r', 'a', 'm', 'm', 'i', 'n', 'g'], ['a', 'n', 'd'], ['p', 'l', 'a', 'y', 'i', 'n', 'g'], ['f', 'o', 'o', 't', 'b', 'a', 'l', 'l'], ['.']]\n"
     ]
    }
   ],
   "source": [
    "tokens = word_tokenize(text)\n",
    "stemmer = PorterStemmer()\n",
    "stemmed_tokens = [[stemmer.stem(token) for token in sentence] for sentence in tokens]\n",
    "print(\"Stemming:\", stemmed_tokens)"
   ]
  },
  {
   "cell_type": "code",
   "execution_count": 30,
   "id": "1a4d821a-1a80-4967-a8db-bf9e0fad2f78",
   "metadata": {},
   "outputs": [
    {
     "name": "stdout",
     "output_type": "stream",
     "text": [
      "Lemmatization: [['J', 'o', 'h', 'n'], ['w', 'o', 'r', 'k', 's'], ['a', 't'], ['G', 'o', 'o', 'g', 'l', 'e'], ['i', 'n'], ['C', 'a', 'l', 'i', 'f', 'o', 'r', 'n', 'i', 'a'], ['.'], ['H', 'e'], ['l', 'o', 'v', 'e', 's'], ['p', 'r', 'o', 'g', 'r', 'a', 'm', 'm', 'i', 'n', 'g'], ['a', 'n', 'd'], ['p', 'l', 'a', 'y', 'i', 'n', 'g'], ['f', 'o', 'o', 't', 'b', 'a', 'l', 'l'], ['.']]\n"
     ]
    }
   ],
   "source": [
    "lemmatizer = WordNetLemmatizer()\n",
    "lemmatized_tokens = [[lemmatizer.lemmatize(token) for token in sentence] for sentence in tokens]\n",
    "print(\"Lemmatization:\", lemmatized_tokens)"
   ]
  },
  {
   "cell_type": "code",
   "execution_count": 32,
   "id": "ed43c1ce-7da6-4cb2-ab96-89d737fff7c3",
   "metadata": {},
   "outputs": [
    {
     "name": "stdout",
     "output_type": "stream",
     "text": [
      "POS Tagging: [('John', 'PROPN'), ('works', 'VERB'), ('at', 'ADP'), ('Google', 'PROPN'), ('in', 'ADP'), ('California', 'PROPN'), ('.', 'PUNCT'), ('He', 'PRON'), ('loves', 'VERB'), ('programming', 'VERB'), ('and', 'CCONJ'), ('playing', 'VERB'), ('football', 'NOUN'), ('.', 'PUNCT')]\n"
     ]
    }
   ],
   "source": [
    "doc = nlp(text)\n",
    "pos_tags = [(token.text, token.pos_) for token in doc]\n",
    "print(\"POS Tagging:\", pos_tags)"
   ]
  },
  {
   "cell_type": "code",
   "execution_count": 34,
   "id": "a362fe76-f270-4522-a90b-8e84e2635764",
   "metadata": {},
   "outputs": [
    {
     "name": "stdout",
     "output_type": "stream",
     "text": [
      "Named Entities: [('John', 'PERSON'), ('Google', 'ORG'), ('California', 'GPE')]\n"
     ]
    }
   ],
   "source": [
    "entities = [(entity.text, entity.label_) for entity in doc.ents]\n",
    "print(\"Named Entities:\", entities)\n",
    " "
   ]
  },
  {
   "cell_type": "code",
   "execution_count": 36,
   "id": "0d2288ce-6264-42be-a63e-7cbbdb6d1f23",
   "metadata": {},
   "outputs": [
    {
     "name": "stdout",
     "output_type": "stream",
     "text": [
      "John       -> nsubj      -> works\n",
      "works      -> ROOT       -> works\n",
      "at         -> prep       -> works\n",
      "Google     -> pobj       -> at\n",
      "in         -> prep       -> works\n",
      "California -> pobj       -> in\n",
      ".          -> punct      -> works\n",
      "He         -> nsubj      -> loves\n",
      "loves      -> ROOT       -> loves\n",
      "programming -> xcomp      -> loves\n",
      "and        -> cc         -> programming\n",
      "playing    -> conj       -> programming\n",
      "football   -> dobj       -> playing\n",
      ".          -> punct      -> loves\n"
     ]
    }
   ],
   "source": [
    "for sent in doc.sents:\n",
    "    for token in sent:\n",
    "        print(f'{token.text:10} -> {token.dep_:10} -> {token.head.text}')"
   ]
  },
  {
   "cell_type": "code",
   "execution_count": null,
   "id": "fa557886-a7a4-4b29-924d-cb6be6b090ea",
   "metadata": {},
   "outputs": [],
   "source": []
  }
 ],
 "metadata": {
  "kernelspec": {
   "display_name": "Python [conda env:base] *",
   "language": "python",
   "name": "conda-base-py"
  },
  "language_info": {
   "codemirror_mode": {
    "name": "ipython",
    "version": 3
   },
   "file_extension": ".py",
   "mimetype": "text/x-python",
   "name": "python",
   "nbconvert_exporter": "python",
   "pygments_lexer": "ipython3",
   "version": "3.12.7"
  }
 },
 "nbformat": 4,
 "nbformat_minor": 5
}
